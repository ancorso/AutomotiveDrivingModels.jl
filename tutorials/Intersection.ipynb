{
 "cells": [
  {
   "cell_type": "markdown",
   "metadata": {},
   "source": [
    "# Intersection\n",
    "\n",
    "In this notebook we demonstrate how to define a T-shape intersection with AutomotiveDrivingModels.  You will also learn how to define your own custom action type and driver model type.\n"
   ]
  },
  {
   "cell_type": "code",
   "execution_count": 15,
   "metadata": {},
   "outputs": [],
   "source": [
    "using AutomotiveDrivingModels\n",
    "\n",
    "# All the functions related to visualization\n",
    "using AutoViz\n",
    "using Random # for RNGs"
   ]
  },
  {
   "cell_type": "markdown",
   "metadata": {},
   "source": [
    "## Generate a T-Shape intersection"
   ]
  },
  {
   "cell_type": "markdown",
   "metadata": {},
   "source": [
    "In order to generate the road network, one first initializes a Roadway object."
   ]
  },
  {
   "cell_type": "code",
   "execution_count": 16,
   "metadata": {},
   "outputs": [],
   "source": [
    "roadway = Roadway();"
   ]
  },
  {
   "cell_type": "code",
   "execution_count": 17,
   "metadata": {},
   "outputs": [
    {
     "data": {
      "text/plain": [
       "3-element VecSE2{Float64} with indices SOneTo(3):\n",
       " 13.0              \n",
       "  3.0              \n",
       " -3.141592653589793"
      ]
     },
     "execution_count": 17,
     "metadata": {},
     "output_type": "execute_result"
    }
   ],
   "source": [
    "# Define coordinates of the entry and exit points to the intersection\n",
    "r = 5.0 # turn radius\n",
    "A = VecSE2(0.0,DEFAULT_LANE_WIDTH,-π)\n",
    "B = VecSE2(0.0,0.0,0.0)\n",
    "C = VecSE2(r,-r,-π/2)\n",
    "D = VecSE2(r+DEFAULT_LANE_WIDTH,-r,π/2)\n",
    "E = VecSE2(2r+DEFAULT_LANE_WIDTH,0,0)\n",
    "F = VecSE2(2r+DEFAULT_LANE_WIDTH,DEFAULT_LANE_WIDTH,-π)"
   ]
  },
  {
   "cell_type": "markdown",
   "metadata": {},
   "source": [
    "The next step consists in appending all the lanes to the road network. We can define a helper function to add a new lane to the roadway."
   ]
  },
  {
   "cell_type": "code",
   "execution_count": 18,
   "metadata": {},
   "outputs": [
    {
     "data": {
      "text/plain": [
       "append_to_curve! (generic function with 1 method)"
      ]
     },
     "execution_count": 18,
     "metadata": {},
     "output_type": "execute_result"
    }
   ],
   "source": [
    "function append_to_curve!(target::Curve, newstuff::Curve)\n",
    "    s_end = target[end].s\n",
    "    for c in newstuff\n",
    "        push!(target, CurvePt(c.pos, c.s+s_end, c.k, c.kd))\n",
    "    end\n",
    "    return target\n",
    "end"
   ]
  },
  {
   "cell_type": "markdown",
   "metadata": {},
   "source": [
    "Example of a lane that consists in 3 road segments, a straight curve (from the left to the center), a turning part (right turn) and a final straight curve. You can visualize the lane that has been added to the roadway"
   ]
  },
  {
   "cell_type": "code",
   "execution_count": 19,
   "metadata": {},
   "outputs": [
    {
     "data": {
      "image/png": "[encoded data removed]",
      "text/plain": [
       "Cairo.CairoSurfaceIOStream{UInt32}(Ptr{Nothing} @0x00000000302f54b0, 1000.0, 600.0, IOBuffer(data=UInt8[...], readable=true, writable=true, seekable=true, append=false, size=0, maxsize=Inf, ptr=1, mark=-1))"
      ]
     },
     "execution_count": 19,
     "metadata": {},
     "output_type": "execute_result"
    }
   ],
   "source": [
    "# Append right turn coming from the left\n",
    "curve = gen_straight_curve(convert(VecE2, B+VecE2(-100,0)), convert(VecE2, B), 2)\n",
    "append_to_curve!(curve, gen_bezier_curve(B, C, 0.6r, 0.6r, 51)[2:end])\n",
    "append_to_curve!(curve, gen_straight_curve(convert(VecE2, C), convert(VecE2, C+VecE2(0,-50.0)), 2))\n",
    "lane = Lane(LaneTag(length(roadway.segments)+1,1), curve)\n",
    "push!(roadway.segments, RoadSegment(lane.tag.segment, [lane]))\n",
    "\n",
    "#visualize first lane\n",
    "cam = FitToContentCamera(0.0)\n",
    "render(roadway, cam=cam)"
   ]
  },
  {
   "cell_type": "markdown",
   "metadata": {},
   "source": [
    "Let's repeat the process and complete the T-shape intersection"
   ]
  },
  {
   "cell_type": "code",
   "execution_count": 20,
   "metadata": {},
   "outputs": [
    {
     "data": {
      "image/png": "[encoded data removed]",
      "text/plain": [
       "Cairo.CairoSurfaceIOStream{UInt32}(Ptr{Nothing} @0x00000000302f5620, 1000.0, 600.0, IOBuffer(data=UInt8[...], readable=true, writable=true, seekable=true, append=false, size=0, maxsize=Inf, ptr=1, mark=-1))"
      ]
     },
     "execution_count": 20,
     "metadata": {},
     "output_type": "execute_result"
    }
   ],
   "source": [
    "# Append straight left\n",
    "curve = gen_straight_curve(convert(VecE2, B+VecE2(-100,0)), convert(VecE2, B), 2)\n",
    "append_to_curve!(curve, gen_straight_curve(convert(VecE2, B), convert(VecE2, E), 2)[2:end])\n",
    "append_to_curve!(curve, gen_straight_curve(convert(VecE2, E), convert(VecE2, E+VecE2(50,0)), 2))\n",
    "lane = Lane(LaneTag(length(roadway.segments)+1,1), curve)\n",
    "push!(roadway.segments, RoadSegment(lane.tag.segment, [lane]))\n",
    "\n",
    "# Append straight right\n",
    "curve = gen_straight_curve(convert(VecE2, F+VecE2(50,0)), convert(VecE2, F), 2)\n",
    "append_to_curve!(curve, gen_straight_curve(convert(VecE2, F), convert(VecE2, A), 2)[2:end])\n",
    "append_to_curve!(curve, gen_straight_curve(convert(VecE2, A), convert(VecE2, A+VecE2(-100,0)), 2))\n",
    "lane = Lane(LaneTag(length(roadway.segments)+1,1), curve)\n",
    "push!(roadway.segments, RoadSegment(lane.tag.segment, [lane]))\n",
    "\n",
    "# Append left turn coming from the right\n",
    "curve = gen_straight_curve(convert(VecE2, F+VecE2(50,0)), convert(VecE2, F), 2)\n",
    "append_to_curve!(curve, gen_bezier_curve(F, C, 0.9r, 0.9r, 51)[2:end])\n",
    "append_to_curve!(curve, gen_straight_curve(convert(VecE2, C), convert(VecE2, C+VecE2(0,-50)), 2))\n",
    "lane = Lane(LaneTag(length(roadway.segments)+1,1), curve)\n",
    "push!(roadway.segments, RoadSegment(lane.tag.segment, [lane]))\n",
    "\n",
    "# Append right turn coming from below\n",
    "curve = gen_straight_curve(convert(VecE2, D+VecE2(0,-50)), convert(VecE2, D), 2)\n",
    "append_to_curve!(curve, gen_bezier_curve(D, E, 0.6r, 0.6r, 51)[2:end])\n",
    "append_to_curve!(curve, gen_straight_curve(convert(VecE2, E), convert(VecE2, E+VecE2(50,0)), 2))\n",
    "lane = Lane(LaneTag(length(roadway.segments)+1,1), curve)\n",
    "push!(roadway.segments, RoadSegment(lane.tag.segment, [lane]))\n",
    "\n",
    "# Append left turn coming from below\n",
    "curve = gen_straight_curve(convert(VecE2, D+VecE2(0,-50)), convert(VecE2, D), 2)\n",
    "append_to_curve!(curve, gen_bezier_curve(D, A, 0.9r, 0.9r, 51)[2:end])\n",
    "append_to_curve!(curve, gen_straight_curve(convert(VecE2, A), convert(VecE2, A+VecE2(-100,0)), 2))\n",
    "lane = Lane(LaneTag(length(roadway.segments)+1,1), curve)\n",
    "push!(roadway.segments, RoadSegment(lane.tag.segment, [lane]))\n",
    "\n",
    "cam = FitToContentCamera(0.0)\n",
    "render(roadway, cam=cam)"
   ]
  },
  {
   "cell_type": "markdown",
   "metadata": {},
   "source": [
    "We can identify each lane thanks to the following user-defined functions. We define a ```LaneOverlay``` object that indicate the lane to highlight. One could implement any custom type to display other information on the lane. We then add a new method to the  ```render!``` function that execute the specific action (coloring in blue). Look at Autoviz.jl for more detail on the ```render!``` function.\n",
    "\n",
    "Use the slider to highlight each lane. The number corresponds to a road segment.\n",
    "\n",
    "**Note :** In order to render the intersection, one must first initialize a ```Scene``` object."
   ]
  },
  {
   "cell_type": "code",
   "execution_count": 21,
   "metadata": {},
   "outputs": [
    {
     "data": {
      "application/vnd.webio.node+json": {
       "children": [
        {
         "children": [
          {
           "children": [
            {
             "children": [
              {
               "children": [
                {
                 "children": [
                  "i"
                 ],
                 "instanceArgs": {
                  "namespace": "html",
                  "tag": "label"
                 },
                 "nodeType": "DOM",
                 "props": {
                  "className": "interact ",
                  "style": {
                   "padding": "5px 10px 0px 10px"
                  }
                 },
                 "type": "node"
                }
               ],
               "instanceArgs": {
                "namespace": "html",
                "tag": "div"
               },
               "nodeType": "DOM",
               "props": {
                "className": "interact-flex-row-left"
               },
               "type": "node"
              },
              {
               "children": [
                {
                 "children": [],
                 "instanceArgs": {
                  "namespace": "html",
                  "tag": "input"
                 },
                 "nodeType": "DOM",
                 "props": {
                  "attributes": {
                   "data-bind": "numericValue: index, valueUpdate: 'input', event: {change: function (){this.changes(this.changes()+1)}}",
                   "orient": "horizontal",
                   "type": "range"
                  },
                  "className": "slider slider is-fullwidth",
                  "max": 6,
                  "min": 1,
                  "step": 1,
                  "style": {}
                 },
                 "type": "node"
                }
               ],
               "instanceArgs": {
                "namespace": "html",
                "tag": "div"
               },
               "nodeType": "DOM",
               "props": {
                "className": "interact-flex-row-center"
               },
               "type": "node"
              },
              {
               "children": [
                {
                 "children": [],
                 "instanceArgs": {
                  "namespace": "html",
                  "tag": "p"
                 },
                 "nodeType": "DOM",
                 "props": {
                  "attributes": {
                   "data-bind": "text: formatted_val"
                  }
                 },
                 "type": "node"
                }
               ],
               "instanceArgs": {
                "namespace": "html",
                "tag": "div"
               },
               "nodeType": "DOM",
               "props": {
                "className": "interact-flex-row-right"
               },
               "type": "node"
              }
             ],
             "instanceArgs": {
              "namespace": "html",
              "tag": "div"
             },
             "nodeType": "DOM",
             "props": {
              "className": "interact-flex-row interact-widget"
             },
             "type": "node"
            }
           ],
           "instanceArgs": {
            "handlers": {
             "changes": [
              "(function (val){return (val!=this.model[\"changes\"]()) ? (this.valueFromJulia[\"changes\"]=true, this.model[\"changes\"](val)) : undefined})"
             ],
             "index": [
              "(function (val){return (val!=this.model[\"index\"]()) ? (this.valueFromJulia[\"index\"]=true, this.model[\"index\"](val)) : undefined})"
             ]
            },
            "id": "13981007195005142646",
            "imports": {
             "data": [
              {
               "name": "knockout",
               "type": "js",
               "url": "/assetserver/d033fda28de5fdb7c6d90919cbd6683e73bd443b-knockout.js"
              },
              {
               "name": "knockout_punches",
               "type": "js",
               "url": "/assetserver/c4515e462c6c31b06468a38b24d65546d76a0006-knockout_punches.js"
              },
              {
               "name": null,
               "type": "js",
               "url": "/assetserver/7160a783468b386025b3685c9691df17912ec29b-all.js"
              },
              {
               "name": null,
               "type": "css",
               "url": "/assetserver/c92112051a0a0326d397440da1a873f367f1d175-style.css"
              },
              {
               "name": null,
               "type": "css",
               "url": "/assetserver/755919ab5089275528f8a583d9fba4e0adcae551-bulma_confined.min.css"
              }
             ],
             "type": "async_block"
            },
            "mount_callbacks": [
             "function () {\n    var handler = (function (ko, koPunches) {\n    ko.punches.enableAll();\n    ko.bindingHandlers.numericValue = {\n        init: function(element, valueAccessor, allBindings, data, context) {\n            var stringified = ko.observable(ko.unwrap(valueAccessor()));\n            stringified.subscribe(function(value) {\n                var val = parseFloat(value);\n                if (!isNaN(val)) {\n                    valueAccessor()(val);\n                }\n            });\n            valueAccessor().subscribe(function(value) {\n                var str = JSON.stringify(value);\n                if ((str == \"0\") && ([\"-0\", \"-0.\"].indexOf(stringified()) >= 0))\n                     return;\n                 if ([\"null\", \"\"].indexOf(str) >= 0)\n                     return;\n                stringified(str);\n            });\n            ko.applyBindingsToNode(\n                element,\n                {\n                    value: stringified,\n                    valueUpdate: allBindings.get('valueUpdate'),\n                },\n                context,\n            );\n        }\n    };\n    var json_data = {\"formatted_vals\":[\"1\",\"2\",\"3\",\"4\",\"5\",\"6\"],\"changes\":WebIO.getval({\"name\":\"changes\",\"scope\":\"13981007195005142646\",\"id\":\"ob_18\",\"type\":\"observable\"}),\"index\":WebIO.getval({\"name\":\"index\",\"scope\":\"13981007195005142646\",\"id\":\"ob_17\",\"type\":\"observable\"})};\n    var self = this;\n    function AppViewModel() {\n        for (var key in json_data) {\n            var el = json_data[key];\n            this[key] = Array.isArray(el) ? ko.observableArray(el) : ko.observable(el);\n        }\n        \n        [this[\"formatted_val\"]=ko.computed(    function(){\n        return this.formatted_vals()[parseInt(this.index())-(1)];\n    }\n,this)]\n        [this[\"changes\"].subscribe((function (val){!(this.valueFromJulia[\"changes\"]) ? (WebIO.setval({\"name\":\"changes\",\"scope\":\"13981007195005142646\",\"id\":\"ob_18\",\"type\":\"observable\"},val)) : undefined; return this.valueFromJulia[\"changes\"]=false}),self),this[\"index\"].subscribe((function (val){!(this.valueFromJulia[\"index\"]) ? (WebIO.setval({\"name\":\"index\",\"scope\":\"13981007195005142646\",\"id\":\"ob_17\",\"type\":\"observable\"},val)) : undefined; return this.valueFromJulia[\"index\"]=false}),self)]\n        \n    }\n    self.model = new AppViewModel();\n    self.valueFromJulia = {};\n    for (var key in json_data) {\n        self.valueFromJulia[key] = false;\n    }\n    ko.applyBindings(self.model, self.dom);\n}\n);\n    (WebIO.importBlock({\"data\":[{\"name\":\"knockout\",\"type\":\"js\",\"url\":\"/assetserver/d033fda28de5fdb7c6d90919cbd6683e73bd443b-knockout.js\"},{\"name\":\"knockout_punches\",\"type\":\"js\",\"url\":\"/assetserver/c4515e462c6c31b06468a38b24d65546d76a0006-knockout_punches.js\"}],\"type\":\"async_block\"})).then((imports) => handler.apply(this, imports));\n}\n"
            ],
            "observables": {
             "changes": {
              "id": "ob_18",
              "sync": false,
              "value": 0
             },
             "index": {
              "id": "ob_17",
              "sync": true,
              "value": 3
             }
            },
            "systemjs_options": null
           },
           "nodeType": "Scope",
           "props": {},
           "type": "node"
          }
         ],
         "instanceArgs": {
          "namespace": "html",
          "tag": "div"
         },
         "nodeType": "DOM",
         "props": {
          "className": "field interact-widget"
         },
         "type": "node"
        },
        {
         "children": [
          {
           "children": [],
           "instanceArgs": {
            "id": "ob_24",
            "name": "obs-node"
           },
           "nodeType": "ObservableNode",
           "props": {},
           "type": "node"
          }
         ],
         "instanceArgs": {
          "handlers": {},
          "id": "1292187770208900297",
          "imports": {
           "data": [],
           "type": "async_block"
          },
          "mount_callbacks": [],
          "observables": {
           "obs-node": {
            "id": "ob_24",
            "sync": false,
            "value": {
             "children": [
              {
               "children": [],
               "instanceArgs": {
                "namespace": "html",
                "tag": "div"
               },
               "nodeType": "DOM",
               "props": {
                "setInnerHtml": "<img src='data:image/png;base64,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'></img>"
               },
               "type": "node"
              }
             ],
             "instanceArgs": {
              "namespace": "html",
              "tag": "div"
             },
             "nodeType": "DOM",
             "props": {
              "className": "interact-flex-row interact-widget"
             },
             "type": "node"
            }
           }
          },
          "systemjs_options": null
         },
         "nodeType": "Scope",
         "props": {},
         "type": "node"
        }
       ],
       "instanceArgs": {
        "namespace": "html",
        "tag": "div"
       },
       "nodeType": "DOM",
       "props": {},
       "type": "node"
      },
      "text/html": [
       "<div\n",
       "    class=\"webio-mountpoint\"\n",
       "    data-webio-mountpoint=\"10026187901205326517\"\n",
       ">\n",
       "    <script>\n",
       "    if (window.require && require.defined && require.defined(\"nbextensions/webio-jupyter-notebook\")) {\n",
       "        console.log(\"Jupyter WebIO extension detected, not mounting.\");\n",
       "    } else if (window.WebIO) {\n",
       "        WebIO.mount(\n",
       "            document.querySelector('[data-webio-mountpoint=\"10026187901205326517\"]'),\n",
       "            {\"props\":{},\"nodeType\":\"DOM\",\"type\":\"node\",\"instanceArgs\":{\"namespace\":\"html\",\"tag\":\"div\"},\"children\":[{\"props\":{\"className\":\"field interact-widget\"},\"nodeType\":\"DOM\",\"type\":\"node\",\"instanceArgs\":{\"namespace\":\"html\",\"tag\":\"div\"},\"children\":[{\"props\":{},\"nodeType\":\"Scope\",\"type\":\"node\",\"instanceArgs\":{\"imports\":{\"data\":[{\"name\":\"knockout\",\"type\":\"js\",\"url\":\"\\/assetserver\\/d033fda28de5fdb7c6d90919cbd6683e73bd443b-knockout.js\"},{\"name\":\"knockout_punches\",\"type\":\"js\",\"url\":\"\\/assetserver\\/c4515e462c6c31b06468a38b24d65546d76a0006-knockout_punches.js\"},{\"name\":null,\"type\":\"js\",\"url\":\"\\/assetserver\\/7160a783468b386025b3685c9691df17912ec29b-all.js\"},{\"name\":null,\"type\":\"css\",\"url\":\"\\/assetserver\\/c92112051a0a0326d397440da1a873f367f1d175-style.css\"},{\"name\":null,\"type\":\"css\",\"url\":\"\\/assetserver\\/755919ab5089275528f8a583d9fba4e0adcae551-bulma_confined.min.css\"}],\"type\":\"async_block\"},\"id\":\"13981007195005142646\",\"handlers\":{\"changes\":[\"(function (val){return (val!=this.model[\\\"changes\\\"]()) ? (this.valueFromJulia[\\\"changes\\\"]=true, this.model[\\\"changes\\\"](val)) : undefined})\"],\"index\":[\"(function (val){return (val!=this.model[\\\"index\\\"]()) ? (this.valueFromJulia[\\\"index\\\"]=true, this.model[\\\"index\\\"](val)) : undefined})\"]},\"systemjs_options\":null,\"mount_callbacks\":[\"function () {\\n    var handler = (function (ko, koPunches) {\\n    ko.punches.enableAll();\\n    ko.bindingHandlers.numericValue = {\\n        init: function(element, valueAccessor, allBindings, data, context) {\\n            var stringified = ko.observable(ko.unwrap(valueAccessor()));\\n            stringified.subscribe(function(value) {\\n                var val = parseFloat(value);\\n                if (!isNaN(val)) {\\n                    valueAccessor()(val);\\n                }\\n            });\\n            valueAccessor().subscribe(function(value) {\\n                var str = JSON.stringify(value);\\n                if ((str == \\\"0\\\") && ([\\\"-0\\\", \\\"-0.\\\"].indexOf(stringified()) >= 0))\\n                     return;\\n                 if ([\\\"null\\\", \\\"\\\"].indexOf(str) >= 0)\\n                     return;\\n                stringified(str);\\n            });\\n            ko.applyBindingsToNode(\\n                element,\\n                {\\n                    value: stringified,\\n                    valueUpdate: allBindings.get('valueUpdate'),\\n                },\\n                context,\\n            );\\n        }\\n    };\\n    var json_data = {\\\"formatted_vals\\\":[\\\"1\\\",\\\"2\\\",\\\"3\\\",\\\"4\\\",\\\"5\\\",\\\"6\\\"],\\\"changes\\\":WebIO.getval({\\\"name\\\":\\\"changes\\\",\\\"scope\\\":\\\"13981007195005142646\\\",\\\"id\\\":\\\"ob_18\\\",\\\"type\\\":\\\"observable\\\"}),\\\"index\\\":WebIO.getval({\\\"name\\\":\\\"index\\\",\\\"scope\\\":\\\"13981007195005142646\\\",\\\"id\\\":\\\"ob_17\\\",\\\"type\\\":\\\"observable\\\"})};\\n    var self = this;\\n    function AppViewModel() {\\n        for (var key in json_data) {\\n            var el = json_data[key];\\n            this[key] = Array.isArray(el) ? ko.observableArray(el) : ko.observable(el);\\n        }\\n        \\n        [this[\\\"formatted_val\\\"]=ko.computed(    function(){\\n        return this.formatted_vals()[parseInt(this.index())-(1)];\\n    }\\n,this)]\\n        [this[\\\"changes\\\"].subscribe((function (val){!(this.valueFromJulia[\\\"changes\\\"]) ? (WebIO.setval({\\\"name\\\":\\\"changes\\\",\\\"scope\\\":\\\"13981007195005142646\\\",\\\"id\\\":\\\"ob_18\\\",\\\"type\\\":\\\"observable\\\"},val)) : undefined; return this.valueFromJulia[\\\"changes\\\"]=false}),self),this[\\\"index\\\"].subscribe((function (val){!(this.valueFromJulia[\\\"index\\\"]) ? (WebIO.setval({\\\"name\\\":\\\"index\\\",\\\"scope\\\":\\\"13981007195005142646\\\",\\\"id\\\":\\\"ob_17\\\",\\\"type\\\":\\\"observable\\\"},val)) : undefined; return this.valueFromJulia[\\\"index\\\"]=false}),self)]\\n        \\n    }\\n    self.model = new AppViewModel();\\n    self.valueFromJulia = {};\\n    for (var key in json_data) {\\n        self.valueFromJulia[key] = false;\\n    }\\n    ko.applyBindings(self.model, self.dom);\\n}\\n);\\n    (WebIO.importBlock({\\\"data\\\":[{\\\"name\\\":\\\"knockout\\\",\\\"type\\\":\\\"js\\\",\\\"url\\\":\\\"\\/assetserver\\/d033fda28de5fdb7c6d90919cbd6683e73bd443b-knockout.js\\\"},{\\\"name\\\":\\\"knockout_punches\\\",\\\"type\\\":\\\"js\\\",\\\"url\\\":\\\"\\/assetserver\\/c4515e462c6c31b06468a38b24d65546d76a0006-knockout_punches.js\\\"}],\\\"type\\\":\\\"async_block\\\"})).then((imports) => handler.apply(this, imports));\\n}\\n\"],\"observables\":{\"changes\":{\"sync\":false,\"id\":\"ob_18\",\"value\":0},\"index\":{\"sync\":true,\"id\":\"ob_17\",\"value\":3}}},\"children\":[{\"props\":{\"className\":\"interact-flex-row interact-widget\"},\"nodeType\":\"DOM\",\"type\":\"node\",\"instanceArgs\":{\"namespace\":\"html\",\"tag\":\"div\"},\"children\":[{\"props\":{\"className\":\"interact-flex-row-left\"},\"nodeType\":\"DOM\",\"type\":\"node\",\"instanceArgs\":{\"namespace\":\"html\",\"tag\":\"div\"},\"children\":[{\"props\":{\"className\":\"interact \",\"style\":{\"padding\":\"5px 10px 0px 10px\"}},\"nodeType\":\"DOM\",\"type\":\"node\",\"instanceArgs\":{\"namespace\":\"html\",\"tag\":\"label\"},\"children\":[\"i\"]}]},{\"props\":{\"className\":\"interact-flex-row-center\"},\"nodeType\":\"DOM\",\"type\":\"node\",\"instanceArgs\":{\"namespace\":\"html\",\"tag\":\"div\"},\"children\":[{\"props\":{\"max\":6,\"min\":1,\"attributes\":{\"type\":\"range\",\"data-bind\":\"numericValue: index, valueUpdate: 'input', event: {change: function (){this.changes(this.changes()+1)}}\",\"orient\":\"horizontal\"},\"step\":1,\"className\":\"slider slider is-fullwidth\",\"style\":{}},\"nodeType\":\"DOM\",\"type\":\"node\",\"instanceArgs\":{\"namespace\":\"html\",\"tag\":\"input\"},\"children\":[]}]},{\"props\":{\"className\":\"interact-flex-row-right\"},\"nodeType\":\"DOM\",\"type\":\"node\",\"instanceArgs\":{\"namespace\":\"html\",\"tag\":\"div\"},\"children\":[{\"props\":{\"attributes\":{\"data-bind\":\"text: formatted_val\"}},\"nodeType\":\"DOM\",\"type\":\"node\",\"instanceArgs\":{\"namespace\":\"html\",\"tag\":\"p\"},\"children\":[]}]}]}]}]},{\"props\":{},\"nodeType\":\"Scope\",\"type\":\"node\",\"instanceArgs\":{\"imports\":{\"data\":[],\"type\":\"async_block\"},\"id\":\"123521907090021751\",\"handlers\":{},\"systemjs_options\":null,\"mount_callbacks\":[],\"observables\":{\"obs-node\":{\"sync\":false,\"id\":\"ob_22\",\"value\":{\"props\":{\"className\":\"interact-flex-row interact-widget\"},\"nodeType\":\"DOM\",\"type\":\"node\",\"instanceArgs\":{\"namespace\":\"html\",\"tag\":\"div\"},\"children\":[{\"props\":{\"setInnerHtml\":\"<img src='data:image\\/png;base64,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'><\\/img>\"},\"nodeType\":\"DOM\",\"type\":\"node\",\"instanceArgs\":{\"namespace\":\"html\",\"tag\":\"div\"},\"children\":[]}]}}}},\"children\":[{\"props\":{},\"nodeType\":\"ObservableNode\",\"type\":\"node\",\"instanceArgs\":{\"id\":\"ob_22\",\"name\":\"obs-node\"},\"children\":[]}]}]},\n",
       "            window,\n",
       "        );\n",
       "    } else {\n",
       "        document\n",
       "            .querySelector('[data-webio-mountpoint=\"10026187901205326517\"]')\n",
       "            .innerHTML = (\n",
       "                '<strong>WebIO not detected. Please read ' +\n",
       "                '<a href=\"https://juliagizmos.github.io/WebIO.jl/latest/troubleshooting/not-detected/\">the troubleshooting guide</a> ' +\n",
       "                'for more information on how to resolve this issue.' +\n",
       "                '</strong>'\n",
       "            );\n",
       "    }\n",
       "    </script>\n",
       "</div>\n"
      ],
      "text/plain": [
       "Node{WebIO.DOM}(WebIO.DOM(:html, :div), Any[Node{WebIO.DOM}(WebIO.DOM(:html, :div), Any[Scope(Node{WebIO.DOM}(WebIO.DOM(:html, :div), Any[Node{WebIO.DOM}(WebIO.DOM(:html, :div), Any[Node{WebIO.DOM}(WebIO.DOM(:html, :label), Any[\"i\"], Dict{Symbol,Any}(:className => \"interact \",:style => Dict{Any,Any}(:padding => \"5px 10px 0px 10px\")))], Dict{Symbol,Any}(:className => \"interact-flex-row-left\")), Node{WebIO.DOM}(WebIO.DOM(:html, :div), Any[Node{WebIO.DOM}(WebIO.DOM(:html, :input), Any[], Dict{Symbol,Any}(:max => 6,:min => 1,:attributes => Dict{Any,Any}(:type => \"range\",Symbol(\"data-bind\") => \"numericValue: index, valueUpdate: 'input', event: {change: function (){this.changes(this.changes()+1)}}\",\"orient\" => \"horizontal\"),:step => 1,:className => \"slider slider is-fullwidth\",:style => Dict{Any,Any}()))], Dict{Symbol,Any}(:className => \"interact-flex-row-center\")), Node{WebIO.DOM}(WebIO.DOM(:html, :div), Any[Node{WebIO.DOM}(WebIO.DOM(:html, :p), Any[], Dict{Symbol,Any}(:attributes => Dict(\"data-bind\" => \"text: formatted_val\")))], Dict{Symbol,Any}(:className => \"interact-flex-row-right\"))], Dict{Symbol,Any}(:className => \"interact-flex-row interact-widget\")), Dict{String,Tuple{Observables.AbstractObservable,Union{Nothing, Bool}}}(\"changes\" => (Observable{Int64} with 1 listeners. Value:\n",
       "0, nothing),\"index\" => (Observable{Int64} with 2 listeners. Value:\n",
       "3, nothing)), Set(String[]), nothing, Asset[Asset(\"js\", \"knockout\", \"C:\\\\Users\\\\Maxime\\\\.julia\\\\packages\\\\Knockout\\\\1sDlc\\\\src\\\\..\\\\assets\\\\knockout.js\"), Asset(\"js\", \"knockout_punches\", \"C:\\\\Users\\\\Maxime\\\\.julia\\\\packages\\\\Knockout\\\\1sDlc\\\\src\\\\..\\\\assets\\\\knockout_punches.js\"), Asset(\"js\", nothing, \"C:\\\\Users\\\\Maxime\\\\.julia\\\\packages\\\\InteractBase\\\\9mFwe\\\\src\\\\..\\\\assets\\\\all.js\"), Asset(\"css\", nothing, \"C:\\\\Users\\\\Maxime\\\\.julia\\\\packages\\\\InteractBase\\\\9mFwe\\\\src\\\\..\\\\assets\\\\style.css\"), Asset(\"css\", nothing, \"C:\\\\Users\\\\Maxime\\\\.julia\\\\packages\\\\Interact\\\\SbgIk\\\\src\\\\..\\\\assets\\\\bulma_confined.min.css\")], Dict{Any,Any}(\"changes\" => Any[WebIO.JSString(\"(function (val){return (val!=this.model[\\\"changes\\\"]()) ? (this.valueFromJulia[\\\"changes\\\"]=true, this.model[\\\"changes\\\"](val)) : undefined})\")],\"index\" => Any[WebIO.JSString(\"(function (val){return (val!=this.model[\\\"index\\\"]()) ? (this.valueFromJulia[\\\"index\\\"]=true, this.model[\\\"index\\\"](val)) : undefined})\")]), WebIO.ConnectionPool(Channel{Any}(sz_max:32,sz_curr:0), Set(AbstractConnection[]), Base.GenericCondition{Base.AlwaysLockedST}(Base.InvasiveLinkedList{Task}(Task (runnable) @0x0000000013118e70, Task (runnable) @0x0000000013118e70), Base.AlwaysLockedST(1))), WebIO.JSString[WebIO.JSString(\"function () {\\n    var handler = (function (ko, koPunches) {\\n    ko.punches.enableAll();\\n    ko.bindingHandlers.numericValue = {\\n        init: function(element, valueAccessor, allBindings, data, context) {\\n            var stringified = ko.observable(ko.unwrap(valueAccessor()));\\n            stringified.subscribe(function(value) {\\n                var val = parseFloat(value);\\n                if (!isNaN(val)) {\\n                    valueAccessor()(val);\\n                }\\n            });\\n            valueAccessor().subscribe(function(value) {\\n                var str = JSON.stringify(value);\\n                if ((str == \\\"0\\\") && ([\\\"-0\\\", \\\"-0.\\\"].indexOf(stringified()) >= 0))\\n                     return;\\n                 if ([\\\"null\\\", \\\"\\\"].indexOf(str) >= 0)\\n                     return;\\n                stringified(str);\\n            });\\n            ko.applyBindingsToNode(\\n                element,\\n                {\\n                    value: stringified,\\n                    valueUpdate: allBindings.get('valueUpdate'),\\n                },\\n                context,\\n            );\\n        }\\n    };\\n    var json_data = {\\\"formatted_vals\\\":[\\\"1\\\",\\\"2\\\",\\\"3\\\",\\\"4\\\",\\\"5\\\",\\\"6\\\"],\\\"changes\\\":WebIO.getval({\\\"name\\\":\\\"changes\\\",\\\"scope\\\":\\\"13981007195005142646\\\",\\\"id\\\":\\\"ob_18\\\",\\\"type\\\":\\\"observable\\\"}),\\\"index\\\":WebIO.getval({\\\"name\\\":\\\"index\\\",\\\"scope\\\":\\\"13981007195005142646\\\",\\\"id\\\":\\\"ob_17\\\",\\\"type\\\":\\\"observable\\\"})};\\n    var self = this;\\n    function AppViewModel() {\\n        for (var key in json_data) {\\n            var el = json_data[key];\\n            this[key] = Array.isArray(el) ? ko.observableArray(el) : ko.observable(el);\\n        }\\n        \\n        [this[\\\"formatted_val\\\"]=ko.computed(    function(){\\n        return this.formatted_vals()[parseInt(this.index())-(1)];\\n    }\\n,this)]\\n        [this[\\\"changes\\\"].subscribe((function (val){!(this.valueFromJulia[\\\"changes\\\"]) ? (WebIO.setval({\\\"name\\\":\\\"changes\\\",\\\"scope\\\":\\\"13981007195005142646\\\",\\\"id\\\":\\\"ob_18\\\",\\\"type\\\":\\\"observable\\\"},val)) : undefined; return this.valueFromJulia[\\\"changes\\\"]=false}),self),this[\\\"index\\\"].subscribe((function (val){!(this.valueFromJulia[\\\"index\\\"]) ? (WebIO.setval({\\\"name\\\":\\\"index\\\",\\\"scope\\\":\\\"13981007195005142646\\\",\\\"id\\\":\\\"ob_17\\\",\\\"type\\\":\\\"observable\\\"},val)) : undefined; return this.valueFromJulia[\\\"index\\\"]=false}),self)]\\n        \\n    }\\n    self.model = new AppViewModel();\\n    self.valueFromJulia = {};\\n    for (var key in json_data) {\\n        self.valueFromJulia[key] = false;\\n    }\\n    ko.applyBindings(self.model, self.dom);\\n}\\n);\\n    (WebIO.importBlock({\\\"data\\\":[{\\\"name\\\":\\\"knockout\\\",\\\"type\\\":\\\"js\\\",\\\"url\\\":\\\"/assetserver/d033fda28de5fdb7c6d90919cbd6683e73bd443b-knockout.js\\\"},{\\\"name\\\":\\\"knockout_punches\\\",\\\"type\\\":\\\"js\\\",\\\"url\\\":\\\"/assetserver/c4515e462c6c31b06468a38b24d65546d76a0006-knockout_punches.js\\\"}],\\\"type\\\":\\\"async_block\\\"})).then((imports) => handler.apply(this, imports));\\n}\\n\")])], Dict{Symbol,Any}(:className => \"field interact-widget\")), Observable{Any} with 0 listeners. Value:\n",
       "Node{WebIO.DOM}(WebIO.DOM(:html, :div), Any[Cairo.CairoSurfaceIOStream{UInt32}(Ptr{Nothing} @0x0000000031c7f7a0, 1000.0, 600.0, IOBuffer(data=UInt8[...], readable=true, writable=true, seekable=true, append=false, size=0, maxsize=Inf, ptr=1, mark=-1))], Dict{Symbol,Any}(:className => \"interact-flex-row interact-widget\"))], Dict{Symbol,Any}())"
      ]
     },
     "execution_count": 21,
     "metadata": {
      "application/vnd.webio.node+json": {
       "kernelId": "c880022a-c1ea-42e7-bb55-6c5c298f8abd"
      }
     },
     "output_type": "execute_result"
    }
   ],
   "source": [
    "using Interact\n",
    "\n",
    "scene = Scene()\n",
    "\n",
    "struct LaneOverlay <: SceneOverlay\n",
    "    lane::Lane\n",
    "    color::Colorant\n",
    "end\n",
    "function AutoViz.render!(rendermodel::RenderModel, overlay::LaneOverlay, scene::Scene, roadway::Roadway)\n",
    "    render!(rendermodel, overlay.lane, roadway, color_asphalt=overlay.color)\n",
    "    return rendermodel\n",
    "end\n",
    "\n",
    "@manipulate for i in 1 : length(roadway.segments)\n",
    "    render(scene, roadway, [LaneOverlay(roadway[LaneTag(i,1)], RGBA(0.0,0.0,1.0,0.5))], cam=cam)\n",
    "end"
   ]
  },
  {
   "cell_type": "markdown",
   "metadata": {},
   "source": [
    "## Navigate in the new road network\n",
    "\n",
    "Let's populate the intersection"
   ]
  },
  {
   "cell_type": "code",
   "execution_count": 22,
   "metadata": {},
   "outputs": [
    {
     "data": {
      "image/png": "[encoded data removed]",
      "text/plain": [
       "Cairo.CairoSurfaceIOStream{UInt32}(Ptr{Nothing} @0x0000000031c7fed0, 1000.0, 600.0, IOBuffer(data=UInt8[...], readable=true, writable=true, seekable=true, append=false, size=0, maxsize=Inf, ptr=1, mark=-1))"
      ]
     },
     "execution_count": 22,
     "metadata": {},
     "output_type": "execute_result"
    }
   ],
   "source": [
    "scene = Scene()\n",
    "vs0 = VehicleState(B + polar(50.0,-π), roadway, 8.0) # initial state of the vehicle\n",
    "push!(scene, Vehicle(vs0, VehicleDef(), 1)) # add vehicle with the default type\n",
    "\n",
    "render(scene, roadway, cam=cam)"
   ]
  },
  {
   "cell_type": "markdown",
   "metadata": {},
   "source": [
    "We will use lateral and longitudinal acceleration to control a car in the intersection. The first step is to define a corresponding action type that will contain the acceleration inputs.\n"
   ]
  },
  {
   "cell_type": "code",
   "execution_count": 23,
   "metadata": {},
   "outputs": [],
   "source": [
    "struct LaneSpecificAccelLatLon\n",
    "    a_lat::Float64\n",
    "    a_lon::Float64\n",
    "end"
   ]
  },
  {
   "cell_type": "markdown",
   "metadata": {},
   "source": [
    "Next, add a method to the propagate function to update the state using our new action type. \n",
    "\n",
    "\n",
    "**Note:** There is an existing propagate method to update the state using lateral and longitudinal acceleration. (it is used in line 3)"
   ]
  },
  {
   "cell_type": "code",
   "execution_count": 24,
   "metadata": {},
   "outputs": [],
   "source": [
    "function AutomotiveDrivingModels.propagate(veh::Vehicle, action::LaneSpecificAccelLatLon, roadway::Roadway, Δt::Float64)\n",
    "    lane_tag_orig = veh.state.posF.roadind.tag\n",
    "    state = propagate(veh, LatLonAccel(action.a_lat, action.a_lon), roadway, Δt)\n",
    "    roadproj = proj(state.posG, roadway[lane_tag_orig], roadway, move_along_curves=false)\n",
    "    retval = VehicleState(Frenet(roadproj, roadway), roadway, state.v)\n",
    "    return retval\n",
    "end"
   ]
  },
  {
   "cell_type": "markdown",
   "metadata": {},
   "source": [
    "**Driver Model:**\n",
    "\n",
    "We define a driver model, which can be seen as a distribution over actions. Here we will define the simplest model, which is to repeat the same action."
   ]
  },
  {
   "cell_type": "code",
   "execution_count": 25,
   "metadata": {},
   "outputs": [],
   "source": [
    "struct InterDriver <: DriverModel{LaneSpecificAccelLatLon}\n",
    "    a::LaneSpecificAccelLatLon\n",
    "end\n",
    "AutomotiveDrivingModels.get_name(model::InterDriver) = \"InterDriver\"\n",
    "AutomotiveDrivingModels.observe!(model::InterDriver, scene::Scene, roadway::Roadway, egoid::Int64) = model\n",
    "Base.rand(::AbstractRNG, model::InterDriver) = model.a"
   ]
  },
  {
   "cell_type": "markdown",
   "metadata": {},
   "source": [
    "**Simulate: **\n",
    "\n",
    "First associate a model to each driver in the scene using a dictionnary. Here we only have one driver identified by its ID: 1. Then everything is ready to run the ```simulate!``` function."
   ]
  },
  {
   "cell_type": "code",
   "execution_count": 26,
   "metadata": {},
   "outputs": [
    {
     "data": {
      "application/vnd.webio.node+json": {
       "children": [
        {
         "children": [
          {
           "children": [
            {
             "children": [
              {
               "children": [
                {
                 "children": [
                  "frame_index"
                 ],
                 "instanceArgs": {
                  "namespace": "html",
                  "tag": "label"
                 },
                 "nodeType": "DOM",
                 "props": {
                  "className": "interact ",
                  "style": {
                   "padding": "5px 10px 0px 10px"
                  }
                 },
                 "type": "node"
                }
               ],
               "instanceArgs": {
                "namespace": "html",
                "tag": "div"
               },
               "nodeType": "DOM",
               "props": {
                "className": "interact-flex-row-left"
               },
               "type": "node"
              },
              {
               "children": [
                {
                 "children": [],
                 "instanceArgs": {
                  "namespace": "html",
                  "tag": "input"
                 },
                 "nodeType": "DOM",
                 "props": {
                  "attributes": {
                   "data-bind": "numericValue: index, valueUpdate: 'input', event: {change: function (){this.changes(this.changes()+1)}}",
                   "orient": "horizontal",
                   "type": "range"
                  },
                  "className": "slider slider is-fullwidth",
                  "max": 101,
                  "min": 1,
                  "step": 1,
                  "style": {}
                 },
                 "type": "node"
                }
               ],
               "instanceArgs": {
                "namespace": "html",
                "tag": "div"
               },
               "nodeType": "DOM",
               "props": {
                "className": "interact-flex-row-center"
               },
               "type": "node"
              },
              {
               "children": [
                {
                 "children": [],
                 "instanceArgs": {
                  "namespace": "html",
                  "tag": "p"
                 },
                 "nodeType": "DOM",
                 "props": {
                  "attributes": {
                   "data-bind": "text: formatted_val"
                  }
                 },
                 "type": "node"
                }
               ],
               "instanceArgs": {
                "namespace": "html",
                "tag": "div"
               },
               "nodeType": "DOM",
               "props": {
                "className": "interact-flex-row-right"
               },
               "type": "node"
              }
             ],
             "instanceArgs": {
              "namespace": "html",
              "tag": "div"
             },
             "nodeType": "DOM",
             "props": {
              "className": "interact-flex-row interact-widget"
             },
             "type": "node"
            }
           ],
           "instanceArgs": {
            "handlers": {
             "changes": [
              "(function (val){return (val!=this.model[\"changes\"]()) ? (this.valueFromJulia[\"changes\"]=true, this.model[\"changes\"](val)) : undefined})"
             ],
             "index": [
              "(function (val){return (val!=this.model[\"index\"]()) ? (this.valueFromJulia[\"index\"]=true, this.model[\"index\"](val)) : undefined})"
             ]
            },
            "id": "5090847059764039543",
            "imports": {
             "data": [
              {
               "name": "knockout",
               "type": "js",
               "url": "/assetserver/d033fda28de5fdb7c6d90919cbd6683e73bd443b-knockout.js"
              },
              {
               "name": "knockout_punches",
               "type": "js",
               "url": "/assetserver/c4515e462c6c31b06468a38b24d65546d76a0006-knockout_punches.js"
              },
              {
               "name": null,
               "type": "js",
               "url": "/assetserver/7160a783468b386025b3685c9691df17912ec29b-all.js"
              },
              {
               "name": null,
               "type": "css",
               "url": "/assetserver/c92112051a0a0326d397440da1a873f367f1d175-style.css"
              },
              {
               "name": null,
               "type": "css",
               "url": "/assetserver/755919ab5089275528f8a583d9fba4e0adcae551-bulma_confined.min.css"
              }
             ],
             "type": "async_block"
            },
            "mount_callbacks": [
             "function () {\n    var handler = (function (ko, koPunches) {\n    ko.punches.enableAll();\n    ko.bindingHandlers.numericValue = {\n        init: function(element, valueAccessor, allBindings, data, context) {\n            var stringified = ko.observable(ko.unwrap(valueAccessor()));\n            stringified.subscribe(function(value) {\n                var val = parseFloat(value);\n                if (!isNaN(val)) {\n                    valueAccessor()(val);\n                }\n            });\n            valueAccessor().subscribe(function(value) {\n                var str = JSON.stringify(value);\n                if ((str == \"0\") && ([\"-0\", \"-0.\"].indexOf(stringified()) >= 0))\n                     return;\n                 if ([\"null\", \"\"].indexOf(str) >= 0)\n                     return;\n                stringified(str);\n            });\n            ko.applyBindingsToNode(\n                element,\n                {\n                    value: stringified,\n                    valueUpdate: allBindings.get('valueUpdate'),\n                },\n                context,\n            );\n        }\n    };\n    var json_data = {\"formatted_vals\":[\"1\",\"2\",\"3\",\"4\",\"5\",\"6\",\"7\",\"8\",\"9\",\"10\",\"11\",\"12\",\"13\",\"14\",\"15\",\"16\",\"17\",\"18\",\"19\",\"20\",\"21\",\"22\",\"23\",\"24\",\"25\",\"26\",\"27\",\"28\",\"29\",\"30\",\"31\",\"32\",\"33\",\"34\",\"35\",\"36\",\"37\",\"38\",\"39\",\"40\",\"41\",\"42\",\"43\",\"44\",\"45\",\"46\",\"47\",\"48\",\"49\",\"50\",\"51\",\"52\",\"53\",\"54\",\"55\",\"56\",\"57\",\"58\",\"59\",\"60\",\"61\",\"62\",\"63\",\"64\",\"65\",\"66\",\"67\",\"68\",\"69\",\"70\",\"71\",\"72\",\"73\",\"74\",\"75\",\"76\",\"77\",\"78\",\"79\",\"80\",\"81\",\"82\",\"83\",\"84\",\"85\",\"86\",\"87\",\"88\",\"89\",\"90\",\"91\",\"92\",\"93\",\"94\",\"95\",\"96\",\"97\",\"98\",\"99\",\"100\",\"101\"],\"changes\":WebIO.getval({\"name\":\"changes\",\"scope\":\"5090847059764039543\",\"id\":\"ob_26\",\"type\":\"observable\"}),\"index\":WebIO.getval({\"name\":\"index\",\"scope\":\"5090847059764039543\",\"id\":\"ob_25\",\"type\":\"observable\"})};\n    var self = this;\n    function AppViewModel() {\n        for (var key in json_data) {\n            var el = json_data[key];\n            this[key] = Array.isArray(el) ? ko.observableArray(el) : ko.observable(el);\n        }\n        \n        [this[\"formatted_val\"]=ko.computed(    function(){\n        return this.formatted_vals()[parseInt(this.index())-(1)];\n    }\n,this)]\n        [this[\"changes\"].subscribe((function (val){!(this.valueFromJulia[\"changes\"]) ? (WebIO.setval({\"name\":\"changes\",\"scope\":\"5090847059764039543\",\"id\":\"ob_26\",\"type\":\"observable\"},val)) : undefined; return this.valueFromJulia[\"changes\"]=false}),self),this[\"index\"].subscribe((function (val){!(this.valueFromJulia[\"index\"]) ? (WebIO.setval({\"name\":\"index\",\"scope\":\"5090847059764039543\",\"id\":\"ob_25\",\"type\":\"observable\"},val)) : undefined; return this.valueFromJulia[\"index\"]=false}),self)]\n        \n    }\n    self.model = new AppViewModel();\n    self.valueFromJulia = {};\n    for (var key in json_data) {\n        self.valueFromJulia[key] = false;\n    }\n    ko.applyBindings(self.model, self.dom);\n}\n);\n    (WebIO.importBlock({\"data\":[{\"name\":\"knockout\",\"type\":\"js\",\"url\":\"/assetserver/d033fda28de5fdb7c6d90919cbd6683e73bd443b-knockout.js\"},{\"name\":\"knockout_punches\",\"type\":\"js\",\"url\":\"/assetserver/c4515e462c6c31b06468a38b24d65546d76a0006-knockout_punches.js\"}],\"type\":\"async_block\"})).then((imports) => handler.apply(this, imports));\n}\n"
            ],
            "observables": {
             "changes": {
              "id": "ob_26",
              "sync": false,
              "value": 0
             },
             "index": {
              "id": "ob_25",
              "sync": true,
              "value": 51
             }
            },
            "systemjs_options": null
           },
           "nodeType": "Scope",
           "props": {},
           "type": "node"
          }
         ],
         "instanceArgs": {
          "namespace": "html",
          "tag": "div"
         },
         "nodeType": "DOM",
         "props": {
          "className": "field interact-widget"
         },
         "type": "node"
        },
        {
         "children": [
          {
           "children": [],
           "instanceArgs": {
            "id": "ob_32",
            "name": "obs-node"
           },
           "nodeType": "ObservableNode",
           "props": {},
           "type": "node"
          }
         ],
         "instanceArgs": {
          "handlers": {},
          "id": "7120049020921087876",
          "imports": {
           "data": [],
           "type": "async_block"
          },
          "mount_callbacks": [],
          "observables": {
           "obs-node": {
            "id": "ob_32",
            "sync": false,
            "value": {
             "children": [
              {
               "children": [],
               "instanceArgs": {
                "namespace": "html",
                "tag": "div"
               },
               "nodeType": "DOM",
               "props": {
                "setInnerHtml": "<img src='data:image/png;base64,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'></img>"
               },
               "type": "node"
              }
             ],
             "instanceArgs": {
              "namespace": "html",
              "tag": "div"
             },
             "nodeType": "DOM",
             "props": {
              "className": "interact-flex-row interact-widget"
             },
             "type": "node"
            }
           }
          },
          "systemjs_options": null
         },
         "nodeType": "Scope",
         "props": {},
         "type": "node"
        }
       ],
       "instanceArgs": {
        "namespace": "html",
        "tag": "div"
       },
       "nodeType": "DOM",
       "props": {},
       "type": "node"
      },
      "text/html": [
       "<div\n",
       "    class=\"webio-mountpoint\"\n",
       "    data-webio-mountpoint=\"15945368535241428136\"\n",
       ">\n",
       "    <script>\n",
       "    if (window.require && require.defined && require.defined(\"nbextensions/webio-jupyter-notebook\")) {\n",
       "        console.log(\"Jupyter WebIO extension detected, not mounting.\");\n",
       "    } else if (window.WebIO) {\n",
       "        WebIO.mount(\n",
       "            document.querySelector('[data-webio-mountpoint=\"15945368535241428136\"]'),\n",
       "            {\"props\":{},\"nodeType\":\"DOM\",\"type\":\"node\",\"instanceArgs\":{\"namespace\":\"html\",\"tag\":\"div\"},\"children\":[{\"props\":{\"className\":\"field interact-widget\"},\"nodeType\":\"DOM\",\"type\":\"node\",\"instanceArgs\":{\"namespace\":\"html\",\"tag\":\"div\"},\"children\":[{\"props\":{},\"nodeType\":\"Scope\",\"type\":\"node\",\"instanceArgs\":{\"imports\":{\"data\":[{\"name\":\"knockout\",\"type\":\"js\",\"url\":\"\\/assetserver\\/d033fda28de5fdb7c6d90919cbd6683e73bd443b-knockout.js\"},{\"name\":\"knockout_punches\",\"type\":\"js\",\"url\":\"\\/assetserver\\/c4515e462c6c31b06468a38b24d65546d76a0006-knockout_punches.js\"},{\"name\":null,\"type\":\"js\",\"url\":\"\\/assetserver\\/7160a783468b386025b3685c9691df17912ec29b-all.js\"},{\"name\":null,\"type\":\"css\",\"url\":\"\\/assetserver\\/c92112051a0a0326d397440da1a873f367f1d175-style.css\"},{\"name\":null,\"type\":\"css\",\"url\":\"\\/assetserver\\/755919ab5089275528f8a583d9fba4e0adcae551-bulma_confined.min.css\"}],\"type\":\"async_block\"},\"id\":\"5090847059764039543\",\"handlers\":{\"changes\":[\"(function (val){return (val!=this.model[\\\"changes\\\"]()) ? (this.valueFromJulia[\\\"changes\\\"]=true, this.model[\\\"changes\\\"](val)) : undefined})\"],\"index\":[\"(function (val){return (val!=this.model[\\\"index\\\"]()) ? (this.valueFromJulia[\\\"index\\\"]=true, this.model[\\\"index\\\"](val)) : undefined})\"]},\"systemjs_options\":null,\"mount_callbacks\":[\"function () {\\n    var handler = (function (ko, koPunches) {\\n    ko.punches.enableAll();\\n    ko.bindingHandlers.numericValue = {\\n        init: function(element, valueAccessor, allBindings, data, context) {\\n            var stringified = ko.observable(ko.unwrap(valueAccessor()));\\n            stringified.subscribe(function(value) {\\n                var val = parseFloat(value);\\n                if (!isNaN(val)) {\\n                    valueAccessor()(val);\\n                }\\n            });\\n            valueAccessor().subscribe(function(value) {\\n                var str = JSON.stringify(value);\\n                if ((str == \\\"0\\\") && ([\\\"-0\\\", \\\"-0.\\\"].indexOf(stringified()) >= 0))\\n                     return;\\n                 if ([\\\"null\\\", \\\"\\\"].indexOf(str) >= 0)\\n                     return;\\n                stringified(str);\\n            });\\n            ko.applyBindingsToNode(\\n                element,\\n                {\\n                    value: stringified,\\n                    valueUpdate: allBindings.get('valueUpdate'),\\n                },\\n                context,\\n            );\\n        }\\n    };\\n    var json_data = {\\\"formatted_vals\\\":[\\\"1\\\",\\\"2\\\",\\\"3\\\",\\\"4\\\",\\\"5\\\",\\\"6\\\",\\\"7\\\",\\\"8\\\",\\\"9\\\",\\\"10\\\",\\\"11\\\",\\\"12\\\",\\\"13\\\",\\\"14\\\",\\\"15\\\",\\\"16\\\",\\\"17\\\",\\\"18\\\",\\\"19\\\",\\\"20\\\",\\\"21\\\",\\\"22\\\",\\\"23\\\",\\\"24\\\",\\\"25\\\",\\\"26\\\",\\\"27\\\",\\\"28\\\",\\\"29\\\",\\\"30\\\",\\\"31\\\",\\\"32\\\",\\\"33\\\",\\\"34\\\",\\\"35\\\",\\\"36\\\",\\\"37\\\",\\\"38\\\",\\\"39\\\",\\\"40\\\",\\\"41\\\",\\\"42\\\",\\\"43\\\",\\\"44\\\",\\\"45\\\",\\\"46\\\",\\\"47\\\",\\\"48\\\",\\\"49\\\",\\\"50\\\",\\\"51\\\",\\\"52\\\",\\\"53\\\",\\\"54\\\",\\\"55\\\",\\\"56\\\",\\\"57\\\",\\\"58\\\",\\\"59\\\",\\\"60\\\",\\\"61\\\",\\\"62\\\",\\\"63\\\",\\\"64\\\",\\\"65\\\",\\\"66\\\",\\\"67\\\",\\\"68\\\",\\\"69\\\",\\\"70\\\",\\\"71\\\",\\\"72\\\",\\\"73\\\",\\\"74\\\",\\\"75\\\",\\\"76\\\",\\\"77\\\",\\\"78\\\",\\\"79\\\",\\\"80\\\",\\\"81\\\",\\\"82\\\",\\\"83\\\",\\\"84\\\",\\\"85\\\",\\\"86\\\",\\\"87\\\",\\\"88\\\",\\\"89\\\",\\\"90\\\",\\\"91\\\",\\\"92\\\",\\\"93\\\",\\\"94\\\",\\\"95\\\",\\\"96\\\",\\\"97\\\",\\\"98\\\",\\\"99\\\",\\\"100\\\",\\\"101\\\"],\\\"changes\\\":WebIO.getval({\\\"name\\\":\\\"changes\\\",\\\"scope\\\":\\\"5090847059764039543\\\",\\\"id\\\":\\\"ob_26\\\",\\\"type\\\":\\\"observable\\\"}),\\\"index\\\":WebIO.getval({\\\"name\\\":\\\"index\\\",\\\"scope\\\":\\\"5090847059764039543\\\",\\\"id\\\":\\\"ob_25\\\",\\\"type\\\":\\\"observable\\\"})};\\n    var self = this;\\n    function AppViewModel() {\\n        for (var key in json_data) {\\n            var el = json_data[key];\\n            this[key] = Array.isArray(el) ? ko.observableArray(el) : ko.observable(el);\\n        }\\n        \\n        [this[\\\"formatted_val\\\"]=ko.computed(    function(){\\n        return this.formatted_vals()[parseInt(this.index())-(1)];\\n    }\\n,this)]\\n        [this[\\\"changes\\\"].subscribe((function (val){!(this.valueFromJulia[\\\"changes\\\"]) ? (WebIO.setval({\\\"name\\\":\\\"changes\\\",\\\"scope\\\":\\\"5090847059764039543\\\",\\\"id\\\":\\\"ob_26\\\",\\\"type\\\":\\\"observable\\\"},val)) : undefined; return this.valueFromJulia[\\\"changes\\\"]=false}),self),this[\\\"index\\\"].subscribe((function (val){!(this.valueFromJulia[\\\"index\\\"]) ? (WebIO.setval({\\\"name\\\":\\\"index\\\",\\\"scope\\\":\\\"5090847059764039543\\\",\\\"id\\\":\\\"ob_25\\\",\\\"type\\\":\\\"observable\\\"},val)) : undefined; return this.valueFromJulia[\\\"index\\\"]=false}),self)]\\n        \\n    }\\n    self.model = new AppViewModel();\\n    self.valueFromJulia = {};\\n    for (var key in json_data) {\\n        self.valueFromJulia[key] = false;\\n    }\\n    ko.applyBindings(self.model, self.dom);\\n}\\n);\\n    (WebIO.importBlock({\\\"data\\\":[{\\\"name\\\":\\\"knockout\\\",\\\"type\\\":\\\"js\\\",\\\"url\\\":\\\"\\/assetserver\\/d033fda28de5fdb7c6d90919cbd6683e73bd443b-knockout.js\\\"},{\\\"name\\\":\\\"knockout_punches\\\",\\\"type\\\":\\\"js\\\",\\\"url\\\":\\\"\\/assetserver\\/c4515e462c6c31b06468a38b24d65546d76a0006-knockout_punches.js\\\"}],\\\"type\\\":\\\"async_block\\\"})).then((imports) => handler.apply(this, imports));\\n}\\n\"],\"observables\":{\"changes\":{\"sync\":false,\"id\":\"ob_26\",\"value\":0},\"index\":{\"sync\":true,\"id\":\"ob_25\",\"value\":51}}},\"children\":[{\"props\":{\"className\":\"interact-flex-row interact-widget\"},\"nodeType\":\"DOM\",\"type\":\"node\",\"instanceArgs\":{\"namespace\":\"html\",\"tag\":\"div\"},\"children\":[{\"props\":{\"className\":\"interact-flex-row-left\"},\"nodeType\":\"DOM\",\"type\":\"node\",\"instanceArgs\":{\"namespace\":\"html\",\"tag\":\"div\"},\"children\":[{\"props\":{\"className\":\"interact \",\"style\":{\"padding\":\"5px 10px 0px 10px\"}},\"nodeType\":\"DOM\",\"type\":\"node\",\"instanceArgs\":{\"namespace\":\"html\",\"tag\":\"label\"},\"children\":[\"frame_index\"]}]},{\"props\":{\"className\":\"interact-flex-row-center\"},\"nodeType\":\"DOM\",\"type\":\"node\",\"instanceArgs\":{\"namespace\":\"html\",\"tag\":\"div\"},\"children\":[{\"props\":{\"max\":101,\"min\":1,\"attributes\":{\"type\":\"range\",\"data-bind\":\"numericValue: index, valueUpdate: 'input', event: {change: function (){this.changes(this.changes()+1)}}\",\"orient\":\"horizontal\"},\"step\":1,\"className\":\"slider slider is-fullwidth\",\"style\":{}},\"nodeType\":\"DOM\",\"type\":\"node\",\"instanceArgs\":{\"namespace\":\"html\",\"tag\":\"input\"},\"children\":[]}]},{\"props\":{\"className\":\"interact-flex-row-right\"},\"nodeType\":\"DOM\",\"type\":\"node\",\"instanceArgs\":{\"namespace\":\"html\",\"tag\":\"div\"},\"children\":[{\"props\":{\"attributes\":{\"data-bind\":\"text: formatted_val\"}},\"nodeType\":\"DOM\",\"type\":\"node\",\"instanceArgs\":{\"namespace\":\"html\",\"tag\":\"p\"},\"children\":[]}]}]}]}]},{\"props\":{},\"nodeType\":\"Scope\",\"type\":\"node\",\"instanceArgs\":{\"imports\":{\"data\":[],\"type\":\"async_block\"},\"id\":\"3637826175792751052\",\"handlers\":{},\"systemjs_options\":null,\"mount_callbacks\":[],\"observables\":{\"obs-node\":{\"sync\":false,\"id\":\"ob_30\",\"value\":{\"props\":{\"className\":\"interact-flex-row interact-widget\"},\"nodeType\":\"DOM\",\"type\":\"node\",\"instanceArgs\":{\"namespace\":\"html\",\"tag\":\"div\"},\"children\":[{\"props\":{\"setInnerHtml\":\"<img src='data:image\\/png;base64,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'><\\/img>\"},\"nodeType\":\"DOM\",\"type\":\"node\",\"instanceArgs\":{\"namespace\":\"html\",\"tag\":\"div\"},\"children\":[]}]}}}},\"children\":[{\"props\":{},\"nodeType\":\"ObservableNode\",\"type\":\"node\",\"instanceArgs\":{\"id\":\"ob_30\",\"name\":\"obs-node\"},\"children\":[]}]}]},\n",
       "            window,\n",
       "        );\n",
       "    } else {\n",
       "        document\n",
       "            .querySelector('[data-webio-mountpoint=\"15945368535241428136\"]')\n",
       "            .innerHTML = (\n",
       "                '<strong>WebIO not detected. Please read ' +\n",
       "                '<a href=\"https://juliagizmos.github.io/WebIO.jl/latest/troubleshooting/not-detected/\">the troubleshooting guide</a> ' +\n",
       "                'for more information on how to resolve this issue.' +\n",
       "                '</strong>'\n",
       "            );\n",
       "    }\n",
       "    </script>\n",
       "</div>\n"
      ],
      "text/plain": [
       "Node{WebIO.DOM}(WebIO.DOM(:html, :div), Any[Node{WebIO.DOM}(WebIO.DOM(:html, :div), Any[Scope(Node{WebIO.DOM}(WebIO.DOM(:html, :div), Any[Node{WebIO.DOM}(WebIO.DOM(:html, :div), Any[Node{WebIO.DOM}(WebIO.DOM(:html, :label), Any[\"frame_index\"], Dict{Symbol,Any}(:className => \"interact \",:style => Dict{Any,Any}(:padding => \"5px 10px 0px 10px\")))], Dict{Symbol,Any}(:className => \"interact-flex-row-left\")), Node{WebIO.DOM}(WebIO.DOM(:html, :div), Any[Node{WebIO.DOM}(WebIO.DOM(:html, :input), Any[], Dict{Symbol,Any}(:max => 101,:min => 1,:attributes => Dict{Any,Any}(:type => \"range\",Symbol(\"data-bind\") => \"numericValue: index, valueUpdate: 'input', event: {change: function (){this.changes(this.changes()+1)}}\",\"orient\" => \"horizontal\"),:step => 1,:className => \"slider slider is-fullwidth\",:style => Dict{Any,Any}()))], Dict{Symbol,Any}(:className => \"interact-flex-row-center\")), Node{WebIO.DOM}(WebIO.DOM(:html, :div), Any[Node{WebIO.DOM}(WebIO.DOM(:html, :p), Any[], Dict{Symbol,Any}(:attributes => Dict(\"data-bind\" => \"text: formatted_val\")))], Dict{Symbol,Any}(:className => \"interact-flex-row-right\"))], Dict{Symbol,Any}(:className => \"interact-flex-row interact-widget\")), Dict{String,Tuple{Observables.AbstractObservable,Union{Nothing, Bool}}}(\"changes\" => (Observable{Int64} with 1 listeners. Value:\n",
       "0, nothing),\"index\" => (Observable{Int64} with 2 listeners. Value:\n",
       "51, nothing)), Set(String[]), nothing, Asset[Asset(\"js\", \"knockout\", \"C:\\\\Users\\\\Maxime\\\\.julia\\\\packages\\\\Knockout\\\\1sDlc\\\\src\\\\..\\\\assets\\\\knockout.js\"), Asset(\"js\", \"knockout_punches\", \"C:\\\\Users\\\\Maxime\\\\.julia\\\\packages\\\\Knockout\\\\1sDlc\\\\src\\\\..\\\\assets\\\\knockout_punches.js\"), Asset(\"js\", nothing, \"C:\\\\Users\\\\Maxime\\\\.julia\\\\packages\\\\InteractBase\\\\9mFwe\\\\src\\\\..\\\\assets\\\\all.js\"), Asset(\"css\", nothing, \"C:\\\\Users\\\\Maxime\\\\.julia\\\\packages\\\\InteractBase\\\\9mFwe\\\\src\\\\..\\\\assets\\\\style.css\"), Asset(\"css\", nothing, \"C:\\\\Users\\\\Maxime\\\\.julia\\\\packages\\\\Interact\\\\SbgIk\\\\src\\\\..\\\\assets\\\\bulma_confined.min.css\")], Dict{Any,Any}(\"changes\" => Any[WebIO.JSString(\"(function (val){return (val!=this.model[\\\"changes\\\"]()) ? (this.valueFromJulia[\\\"changes\\\"]=true, this.model[\\\"changes\\\"](val)) : undefined})\")],\"index\" => Any[WebIO.JSString(\"(function (val){return (val!=this.model[\\\"index\\\"]()) ? (this.valueFromJulia[\\\"index\\\"]=true, this.model[\\\"index\\\"](val)) : undefined})\")]), WebIO.ConnectionPool(Channel{Any}(sz_max:32,sz_curr:0), Set(AbstractConnection[]), Base.GenericCondition{Base.AlwaysLockedST}(Base.InvasiveLinkedList{Task}(Task (runnable) @0x000000002c242290, Task (runnable) @0x000000002c242290), Base.AlwaysLockedST(1))), WebIO.JSString[WebIO.JSString(\"function () {\\n    var handler = (function (ko, koPunches) {\\n    ko.punches.enableAll();\\n    ko.bindingHandlers.numericValue = {\\n        init: function(element, valueAccessor, allBindings, data, context) {\\n            var stringified = ko.observable(ko.unwrap(valueAccessor()));\\n            stringified.subscribe(function(value) {\\n                var val = parseFloat(value);\\n                if (!isNaN(val)) {\\n                    valueAccessor()(val);\\n                }\\n            });\\n            valueAccessor().subscribe(function(value) {\\n                var str = JSON.stringify(value);\\n                if ((str == \\\"0\\\") && ([\\\"-0\\\", \\\"-0.\\\"].indexOf(stringified()) >= 0))\\n                     return;\\n                 if ([\\\"null\\\", \\\"\\\"].indexOf(str) >= 0)\\n                     return;\\n                stringified(str);\\n            });\\n            ko.applyBindingsToNode(\\n                element,\\n                {\\n                    value: stringified,\\n                    valueUpdate: allBindings.get('valueUpdate'),\\n                },\\n                context,\\n            );\\n        }\\n    };\\n    var json_data = {\\\"formatted_vals\\\":[\\\"1\\\",\\\"2\\\",\\\"3\\\",\\\"4\\\",\\\"5\\\",\\\"6\\\",\\\"7\\\",\\\"8\\\",\\\"9\\\",\\\"10\\\",\\\"11\\\",\\\"12\\\",\\\"13\\\",\\\"14\\\",\\\"15\\\",\\\"16\\\",\\\"17\\\",\\\"18\\\",\\\"19\\\",\\\"20\\\",\\\"21\\\",\\\"22\\\",\\\"23\\\",\\\"24\\\",\\\"25\\\",\\\"26\\\",\\\"27\\\",\\\"28\\\",\\\"29\\\",\\\"30\\\",\\\"31\\\",\\\"32\\\",\\\"33\\\",\\\"34\\\",\\\"35\\\",\\\"36\\\",\\\"37\\\",\\\"38\\\",\\\"39\\\",\\\"40\\\",\\\"41\\\",\\\"42\\\",\\\"43\\\",\\\"44\\\",\\\"45\\\",\\\"46\\\",\\\"47\\\",\\\"48\\\",\\\"49\\\",\\\"50\\\",\\\"51\\\",\\\"52\\\",\\\"53\\\",\\\"54\\\",\\\"55\\\",\\\"56\\\",\\\"57\\\",\\\"58\\\",\\\"59\\\",\\\"60\\\",\\\"61\\\",\\\"62\\\",\\\"63\\\",\\\"64\\\",\\\"65\\\",\\\"66\\\",\\\"67\\\",\\\"68\\\",\\\"69\\\",\\\"70\\\",\\\"71\\\",\\\"72\\\",\\\"73\\\",\\\"74\\\",\\\"75\\\",\\\"76\\\",\\\"77\\\",\\\"78\\\",\\\"79\\\",\\\"80\\\",\\\"81\\\",\\\"82\\\",\\\"83\\\",\\\"84\\\",\\\"85\\\",\\\"86\\\",\\\"87\\\",\\\"88\\\",\\\"89\\\",\\\"90\\\",\\\"91\\\",\\\"92\\\",\\\"93\\\",\\\"94\\\",\\\"95\\\",\\\"96\\\",\\\"97\\\",\\\"98\\\",\\\"99\\\",\\\"100\\\",\\\"101\\\"],\\\"changes\\\":WebIO.getval({\\\"name\\\":\\\"changes\\\",\\\"scope\\\":\\\"5090847059764039543\\\",\\\"id\\\":\\\"ob_26\\\",\\\"type\\\":\\\"observable\\\"}),\\\"index\\\":WebIO.getval({\\\"name\\\":\\\"index\\\",\\\"scope\\\":\\\"5090847059764039543\\\",\\\"id\\\":\\\"ob_25\\\",\\\"type\\\":\\\"observable\\\"})};\\n    var self = this;\\n    function AppViewModel() {\\n        for (var key in json_data) {\\n            var el = json_data[key];\\n            this[key] = Array.isArray(el) ? ko.observableArray(el) : ko.observable(el);\\n        }\\n        \\n        [this[\\\"formatted_val\\\"]=ko.computed(    function(){\\n        return this.formatted_vals()[parseInt(this.index())-(1)];\\n    }\\n,this)]\\n        [this[\\\"changes\\\"].subscribe((function (val){!(this.valueFromJulia[\\\"changes\\\"]) ? (WebIO.setval({\\\"name\\\":\\\"changes\\\",\\\"scope\\\":\\\"5090847059764039543\\\",\\\"id\\\":\\\"ob_26\\\",\\\"type\\\":\\\"observable\\\"},val)) : undefined; return this.valueFromJulia[\\\"changes\\\"]=false}),self),this[\\\"index\\\"].subscribe((function (val){!(this.valueFromJulia[\\\"index\\\"]) ? (WebIO.setval({\\\"name\\\":\\\"index\\\",\\\"scope\\\":\\\"5090847059764039543\\\",\\\"id\\\":\\\"ob_25\\\",\\\"type\\\":\\\"observable\\\"},val)) : undefined; return this.valueFromJulia[\\\"index\\\"]=false}),self)]\\n        \\n    }\\n    self.model = new AppViewModel();\\n    self.valueFromJulia = {};\\n    for (var key in json_data) {\\n        self.valueFromJulia[key] = false;\\n    }\\n    ko.applyBindings(self.model, self.dom);\\n}\\n);\\n    (WebIO.importBlock({\\\"data\\\":[{\\\"name\\\":\\\"knockout\\\",\\\"type\\\":\\\"js\\\",\\\"url\\\":\\\"/assetserver/d033fda28de5fdb7c6d90919cbd6683e73bd443b-knockout.js\\\"},{\\\"name\\\":\\\"knockout_punches\\\",\\\"type\\\":\\\"js\\\",\\\"url\\\":\\\"/assetserver/c4515e462c6c31b06468a38b24d65546d76a0006-knockout_punches.js\\\"}],\\\"type\\\":\\\"async_block\\\"})).then((imports) => handler.apply(this, imports));\\n}\\n\")])], Dict{Symbol,Any}(:className => \"field interact-widget\")), Observable{Any} with 0 listeners. Value:\n",
       "Node{WebIO.DOM}(WebIO.DOM(:html, :div), Any[Cairo.CairoSurfaceIOStream{UInt32}(Ptr{Nothing} @0x0000000031c7f630, 1000.0, 600.0, IOBuffer(data=UInt8[...], readable=true, writable=true, seekable=true, append=false, size=0, maxsize=Inf, ptr=1, mark=-1))], Dict{Symbol,Any}(:className => \"interact-flex-row interact-widget\"))], Dict{Symbol,Any}())"
      ]
     },
     "execution_count": 26,
     "metadata": {
      "application/vnd.webio.node+json": {
       "kernelId": "c880022a-c1ea-42e7-bb55-6c5c298f8abd"
      }
     },
     "output_type": "execute_result"
    }
   ],
   "source": [
    "timestep = 0.1\n",
    "\n",
    "models = Dict{Int, DriverModel}()\n",
    "# constant speed model\n",
    "models[1] = InterDriver(LaneSpecificAccelLatLon(0.0,0.0))\n",
    "\n",
    "nticks = 100\n",
    "scenes = simulate!(scene, roadway, models, nticks, timestep)\n",
    "\n",
    "# interactive visualization\n",
    "@manipulate for frame_index in 1 : length(scenes)\n",
    "    render(scenes[frame_index], roadway, cam=cam)\n",
    "end"
   ]
  },
  {
   "cell_type": "code",
   "execution_count": null,
   "metadata": {},
   "outputs": [],
   "source": []
  }
 ],
 "metadata": {
  "@webio": {
   "lastCommId": "c4627755eddf4bfab0866fa3cda1ec3d",
   "lastKernelId": "c880022a-c1ea-42e7-bb55-6c5c298f8abd"
  },
  "kernelspec": {
   "display_name": "Julia 1.2.0",
   "language": "julia",
   "name": "julia-1.2"
  },
  "language_info": {
   "file_extension": ".jl",
   "mimetype": "application/julia",
   "name": "julia",
   "version": "1.2.0"
  }
 },
 "nbformat": 4,
 "nbformat_minor": 2
}
