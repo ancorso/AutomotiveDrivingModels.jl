{
 "cells": [
  {
   "cell_type": "markdown",
   "metadata": {},
   "source": [
    "# Crosswalk"
   ]
  },
  {
   "cell_type": "markdown",
   "metadata": {},
   "source": [
    "In this notebook we demonstrate how to define a crosswalk with pedestrians using AutomotiveDrivingModels. The last part also hows how to save a video from a simulation."
   ]
  },
  {
   "cell_type": "code",
   "execution_count": 1,
   "metadata": {},
   "outputs": [],
   "source": [
    "using AutomotiveDrivingModels\n",
    "\n",
    "# All the functions related to visualization\n",
    "using AutoViz\n",
    "using Random"
   ]
  },
  {
   "cell_type": "markdown",
   "metadata": {},
   "source": [
    "## Generate a crosswalk environment"
   ]
  },
  {
   "cell_type": "markdown",
   "metadata": {},
   "source": [
    "In this second example we demonstrate how to define a crosswalk area as well as a pedestrian agent type.\n",
    "\n",
    "We define a new concrete type that will contain the roadway (where cars drive) and the crosswalk definition which is just a regular lane."
   ]
  },
  {
   "cell_type": "code",
   "execution_count": 2,
   "metadata": {},
   "outputs": [],
   "source": [
    "struct CrosswalkEnv\n",
    "    roadway::Roadway{Float64}\n",
    "    crosswalk::Lane{Float64}\n",
    "end"
   ]
  },
  {
   "cell_type": "markdown",
   "metadata": {},
   "source": [
    "The crosswalk lane consists of a straight road segment perpendicular to the road. We will define the roadway just as a straight road."
   ]
  },
  {
   "cell_type": "code",
   "execution_count": 3,
   "metadata": {},
   "outputs": [],
   "source": [
    "# geometry parameters\n",
    "roadway_length = 50.\n",
    "crosswalk_length = 20.\n",
    "crosswalk_width = 6.0\n",
    "crosswalk_pos = roadway_length/2\n",
    "\n",
    "# Generate straight roadway of length roadway_length with 2 lanes\n",
    "roadway = gen_straight_roadway(2, roadway_length) \n",
    "\n",
    "# generate the crosswalk\n",
    "n_samples = 2 # for curve generation\n",
    "crosswalk = Lane(LaneTag(2,1), gen_straight_curve(VecE2(crosswalk_pos, -crosswalk_length/2),\n",
    "                                                  VecE2(crosswalk_pos, crosswalk_length/2),\n",
    "                                                   n_samples), width = crosswalk_width)\n",
    "cw_segment = RoadSegment(2, [crosswalk])\n",
    "push!(roadway.segments, cw_segment) # append it to the roadway\n",
    "\n",
    "\n",
    "# initialize crosswalk environment\n",
    "env = CrosswalkEnv(roadway, crosswalk);"
   ]
  },
  {
   "cell_type": "markdown",
   "metadata": {},
   "source": [
    "**Render the crosswalk**\n",
    "\n",
    "We will define a new method to render this new environment. The roadway part is just rendered regularly, we add specific instuction for the crossswalk part that will display the white stripes."
   ]
  },
  {
   "cell_type": "code",
   "execution_count": 4,
   "metadata": {},
   "outputs": [],
   "source": [
    "function AutoViz.render!(rendermodel::RenderModel, env::CrosswalkEnv)\n",
    "    roadway = gen_straight_roadway(2, roadway_length) # only render the road and not the crosswalk\n",
    "    render!(rendermodel, roadway)\n",
    "    \n",
    "    # render crosswalk\n",
    "    curve = env.crosswalk.curve\n",
    "    n = length(curve)\n",
    "    pts = Array{Float64}(undef, 2, n)\n",
    "    for (i,pt) in enumerate(curve)\n",
    "        pts[1,i] = pt.pos.x\n",
    "        pts[2,i] = pt.pos.y\n",
    "    end\n",
    "\n",
    "    add_instruction!(rendermodel, render_dashed_line, (pts, colorant\"white\", env.crosswalk.width, 1.0, 1.0, 0.0, Cairo.CAIRO_LINE_CAP_BUTT))\n",
    "    return rendermodel\n",
    "end"
   ]
  },
  {
   "cell_type": "code",
   "execution_count": 5,
   "metadata": {},
   "outputs": [
    {
     "data": {
      "image/png": "[encoded data removed]",
      "text/plain": [
       "Cairo.CairoSurfaceIOStream{UInt32}(Ptr{Nothing} @0x0000000014fc95a0, 1000.0, 600.0, IOBuffer(data=UInt8[...], readable=true, writable=true, seekable=true, append=false, size=0, maxsize=Inf, ptr=1, mark=-1))"
      ]
     },
     "execution_count": 5,
     "metadata": {},
     "output_type": "execute_result"
    }
   ],
   "source": [
    "cam = FitToContentCamera(0.0)\n",
    "render(Scene(), env, cam = cam)"
   ]
  },
  {
   "cell_type": "markdown",
   "metadata": {},
   "source": [
    "### Navigate the crosswalk example"
   ]
  },
  {
   "cell_type": "markdown",
   "metadata": {},
   "source": [
    "Cars will be navigating in the roadway just as before. For the pedestrian we can define a new vehicle definition where we specify the size of the bounding box represented by the pedestrian."
   ]
  },
  {
   "cell_type": "code",
   "execution_count": 6,
   "metadata": {},
   "outputs": [
    {
     "data": {
      "text/plain": [
       "(:class, :length, :width)"
      ]
     },
     "execution_count": 6,
     "metadata": {},
     "output_type": "execute_result"
    }
   ],
   "source": [
    "# field of the VehicleDef type\n",
    "fieldnames(VehicleDef)"
   ]
  },
  {
   "cell_type": "code",
   "execution_count": 7,
   "metadata": {},
   "outputs": [
    {
     "data": {
      "text/plain": [
       "VehicleDef(PEDESTRIAN, 1.000, 1.000)"
      ]
     },
     "execution_count": 7,
     "metadata": {},
     "output_type": "execute_result"
    }
   ],
   "source": [
    "# Agent.Class is from AutomotiveDrivingModels\n",
    "const PEDESTRIAN_DEF = VehicleDef(AgentClass.PEDESTRIAN, 1.0, 1.0)"
   ]
  },
  {
   "cell_type": "code",
   "execution_count": 8,
   "metadata": {},
   "outputs": [
    {
     "data": {
      "image/png": "[encoded data removed]",
      "text/plain": [
       "Cairo.CairoSurfaceIOStream{UInt32}(Ptr{Nothing} @0x0000000014fc9fb0, 1000.0, 600.0, IOBuffer(data=UInt8[...], readable=true, writable=true, seekable=true, append=false, size=0, maxsize=Inf, ptr=1, mark=-1))"
      ]
     },
     "execution_count": 8,
     "metadata": {},
     "output_type": "execute_result"
    }
   ],
   "source": [
    "# Car definition\n",
    "car_initial_state = VehicleState(VecSE2(5.0, 0., 0.), roadway.segments[1].lanes[1],roadway, 8.0)\n",
    "car = Vehicle(car_initial_state, VehicleDef(), 1)\n",
    "\n",
    "# Pedestrian definition using our new Vehicle definition\n",
    "ped_initial_state = VehicleState(VecSE2(+24.5,-7.0,π/2), env.crosswalk, roadway, 0.5)\n",
    "ped = Vehicle(ped_initial_state, PEDESTRIAN_DEF, 2)\n",
    "\n",
    "scene = Scene()\n",
    "push!(scene, car)\n",
    "push!(scene, ped)\n",
    "\n",
    "# visualize the initial state\n",
    "render(scene, env, cam=cam)"
   ]
  },
  {
   "cell_type": "markdown",
   "metadata": {},
   "source": [
    "### Simulate!\n",
    "\n",
    "As before, associate a driver model to each vehicle in the scene. We will use the model defined in the intersection example for both agents."
   ]
  },
  {
   "cell_type": "code",
   "execution_count": 9,
   "metadata": {},
   "outputs": [],
   "source": [
    "mutable struct LinearDriver <: DriverModel{LaneFollowingAccel}\n",
    "    a::LaneFollowingAccel\n",
    "\n",
    "    p::Float64 # confidence on the pedestrian intention\n",
    "    k::Float64 # gain\n",
    "end"
   ]
  },
  {
   "cell_type": "code",
   "execution_count": 10,
   "metadata": {},
   "outputs": [],
   "source": [
    "function AutomotiveDrivingModels.get_name(model::LinearDriver) \n",
    "    return \"linear driver\"\n",
    "end\n",
    "\n",
    "Base.rand(rng::AbstractRNG, model::LinearDriver) = model.a\n",
    "\n",
    "\n",
    "function AutomotiveDrivingModels.observe!(model::LinearDriver, scene::EntityFrame{VehicleState, VehicleDef, Int64}, roadway::Roadway, egoid::Int) \n",
    "    model.a = LaneFollowingAccel(model.k*model.p)\n",
    "    \n",
    "    # change the confidence based on some policy\n",
    "    # you can get the position of the pedestrian from the scene\n",
    "    model.p = 100.0\n",
    "end"
   ]
  },
  {
   "cell_type": "code",
   "execution_count": 11,
   "metadata": {},
   "outputs": [
    {
     "data": {
      "image/png": "[encoded data removed]",
      "text/plain": [
       "Cairo.CairoSurfaceIOStream{UInt32}(Ptr{Nothing} @0x0000000014fca570, 1000.0, 600.0, IOBuffer(data=UInt8[...], readable=true, writable=true, seekable=true, append=false, size=0, maxsize=Inf, ptr=1, mark=-1))"
      ]
     },
     "execution_count": 11,
     "metadata": {},
     "output_type": "execute_result"
    }
   ],
   "source": [
    "timestep = 0.1\n",
    "\n",
    "\n",
    "# reset the initial scene\n",
    "# Car definition\n",
    "car_initial_state = VehicleState(VecSE2(5.0, 0., 0.), roadway.segments[1].lanes[1],roadway, 8.0)\n",
    "car = Vehicle(car_initial_state, VehicleDef(), 1)\n",
    "\n",
    "# Pedestrian definition using our new Vehicle definition\n",
    "ped_initial_state = VehicleState(VecSE2(+24.5,-7.0,π/2), env.crosswalk, roadway, 0.5)\n",
    "ped = Vehicle(ped_initial_state, PEDESTRIAN_DEF, 2)\n",
    "\n",
    "scene = Scene()\n",
    "push!(scene, car)\n",
    "push!(scene, ped)\n",
    "\n",
    "# define a model for each entities present in the scene\n",
    "models = Dict{Int, DriverModel}()\n",
    "\n",
    "ego_id = 1\n",
    "ped_id = 2\n",
    "# Constant speed model\n",
    "models[ego_id] = LinearDriver(LaneFollowingAccel(0.0), 20.0, -0.02)\n",
    "models[ped_id] = IntelligentDriverModel(v_des=1.0) # dumb model\n",
    "\n",
    "nticks = 50\n",
    "\n",
    "# execute the simulation\n",
    "scenes = simulate!(scene, roadway, models, nticks, timestep)\n",
    "\n",
    "render(last(scenes), env, cam=cam)"
   ]
  },
  {
   "cell_type": "markdown",
   "metadata": {},
   "source": [
    "## Generate a video with Reel.jl"
   ]
  },
  {
   "cell_type": "code",
   "execution_count": 12,
   "metadata": {},
   "outputs": [],
   "source": [
    "using Reel"
   ]
  },
  {
   "cell_type": "code",
   "execution_count": 13,
   "metadata": {},
   "outputs": [
    {
     "data": {
      "text/plain": [
       "animate_record (generic function with 2 methods)"
      ]
     },
     "execution_count": 13,
     "metadata": {},
     "output_type": "execute_result"
    }
   ],
   "source": [
    "function animate_record(scenes::Vector{Scene},dt::Float64, env::CrosswalkEnv, cam=FitToContentCamera(0.0))\n",
    "    duration =length(scenes)*dt::Float64\n",
    "    fps = Int(1/dt)\n",
    "    function render_rec(t, dt)\n",
    "        frame_index = Int(floor(t/dt)) + 1\n",
    "        return render(scenes[frame_index], env, cam=cam)\n",
    "    end\n",
    "    return duration, fps, render_rec\n",
    "end"
   ]
  },
  {
   "cell_type": "code",
   "execution_count": 15,
   "metadata": {},
   "outputs": [
    {
     "data": {
      "text/html": [
       "<video autoplay controls><source src=\"files/reel-1152650524991518486.webm?4471614224203352875\" type=\"video/webm\"></video>"
      ],
      "text/plain": [
       "Frames{MIME{Symbol(\"image/png\")}}(\"C:\\\\Users\\\\Maxime\\\\AppData\\\\Local\\\\Temp\\\\jl_oWSOuh\", 0x0000000000000033, 10.0, nothing)"
      ]
     },
     "execution_count": 15,
     "metadata": {},
     "output_type": "execute_result"
    }
   ],
   "source": [
    "duration, fps, render_hist = animate_record(scenes, timestep, env)\n",
    "film = roll(render_hist, fps = fps, duration = duration)"
   ]
  },
  {
   "cell_type": "code",
   "execution_count": null,
   "metadata": {},
   "outputs": [],
   "source": []
  }
 ],
 "metadata": {
  "@webio": {
   "lastCommId": null,
   "lastKernelId": null
  },
  "anaconda-cloud": {},
  "kernelspec": {
   "display_name": "Julia 1.2.0",
   "language": "julia",
   "name": "julia-1.2"
  },
  "language_info": {
   "file_extension": ".jl",
   "mimetype": "application/julia",
   "name": "julia",
   "version": "1.2.0"
  },
  "widgets": {
   "state": {
    "733a867e-9029-4020-a34a-60002bbbddfa": {
     "views": [
      {
       "cell_index": 40
      }
     ]
    },
    "76a90642-0d5d-478d-b349-376a8b55bc6e": {
     "views": [
      {
       "cell_index": 25
      }
     ]
    },
    "f84f4727-ab47-40ae-8cca-02ef73504523": {
     "views": [
      {
       "cell_index": 14
      }
     ]
    }
   },
   "version": "1.2.0"
  }
 },
 "nbformat": 4,
 "nbformat_minor": 1
}
