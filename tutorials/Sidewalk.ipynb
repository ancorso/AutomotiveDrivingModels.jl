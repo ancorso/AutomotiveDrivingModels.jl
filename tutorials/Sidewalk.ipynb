{
 "cells": [
  {
   "cell_type": "markdown",
   "metadata": {},
   "source": [
    "# Sidewalk"
   ]
  },
  {
   "cell_type": "markdown",
   "metadata": {},
   "source": [
    "In this notebook, we will be creating a sidewalk environment in which pedestrians can walk along the sidewalk and cross the street as cars pass."
   ]
  },
  {
   "cell_type": "code",
   "execution_count": 1,
   "metadata": {
    "scrolled": false
   },
   "outputs": [
    {
     "data": {
      "text/html": [
       "<script>\n",
       "// Immediately-invoked-function-expression to avoid global variables.\n",
       "(function() {\n",
       "    var warning_div = document.getElementById(\"webio-warning-17155769163635038402\");\n",
       "    var hide = function () {\n",
       "        var script = document.getElementById(\"webio-setup-7724384263097161349\");\n",
       "        var parent = script && script.parentElement;\n",
       "        var grandparent = parent && parent.parentElement;\n",
       "        if (grandparent) {\n",
       "            grandparent.style.display = \"none\";\n",
       "        }\n",
       "        warning_div.style.display = \"none\";\n",
       "    };\n",
       "    if (typeof Jupyter !== \"undefined\") {\n",
       "        console.log(\"WebIO detected Jupyter notebook environment.\");\n",
       "        // Jupyter notebook.\n",
       "        var extensions = (\n",
       "            Jupyter\n",
       "            && Jupyter.notebook.config.data\n",
       "            && Jupyter.notebook.config.data.load_extensions\n",
       "        );\n",
       "        if (extensions && extensions[\"webio/main\"]) {\n",
       "            // Extension already loaded.\n",
       "            console.log(\"Jupyter WebIO nbextension detected; not loading ad-hoc.\");\n",
       "            hide();\n",
       "            return;\n",
       "        }\n",
       "        console.warn(\"Loading WebIO Jupyter extension on an ad-hoc basis. Consider enabling the WebIO nbextension for a stabler experience (this should happen automatically when building WebIO).\");\n",
       "        require([\"/assetserver/074e3bb3a91670d5ceb5e6e41647db8d54f807cd-dist/main.js\"], function (webIOModule) {\n",
       "            webIOModule.load_ipython_extension();\n",
       "        });\n",
       "        warning_div.innerHTML = \"<strong>Loading WebIO Jupyter extension on an ad-hoc basis. Consider enabling the WebIO nbextension for a stabler experience (this should happen automatically when building WebIO).</strong>\";\n",
       "    } else if (window.location.pathname.includes(\"/lab\")) {\n",
       "        // Guessing JupyterLa\n",
       "        console.log(\"Jupyter Lab detected; make sure the @webio/jupyter-lab-provider labextension is installed.\");\n",
       "        hide();\n",
       "        return;\n",
       "    }\n",
       "})();\n",
       "\n",
       "</script>\n",
       "<div\n",
       "    id=\"webio-warning-17155769163635038402\"\n",
       "    class=\"output_text output_stderr\"\n",
       "    style=\"padding: 1em; font-weight: bold;\"\n",
       ">\n",
       "    Unable to load WebIO. Please make sure WebIO works for your Jupyter client.\n",
       "    <!-- TODO: link to installation docs. -->\n",
       "</div>\n"
      ],
      "text/plain": [
       "HTML{String}(\"<script>\\n// Immediately-invoked-function-expression to avoid global variables.\\n(function() {\\n    var warning_div = document.getElementById(\\\"webio-warning-17155769163635038402\\\");\\n    var hide = function () {\\n        var script = document.getElementById(\\\"webio-setup-7724384263097161349\\\");\\n        var parent = script && script.parentElement;\\n        var grandparent = parent && parent.parentElement;\\n        if (grandparent) {\\n            grandparent.style.display = \\\"none\\\";\\n        }\\n        warning_div.style.display = \\\"none\\\";\\n    };\\n    if (typeof Jupyter !== \\\"undefined\\\") {\\n        console.log(\\\"WebIO detected Jupyter notebook environment.\\\");\\n        // Jupyter notebook.\\n        var extensions = (\\n            Jupyter\\n            && Jupyter.notebook.config.data\\n            && Jupyter.notebook.config.data.load_extensions\\n        );\\n        if (extensions && extensions[\\\"webio/main\\\"]) {\\n            // Extension already loaded.\\n            console.log(\\\"Jupyter WebIO nbextension detected; not loading ad-hoc.\\\");\\n            hide();\\n            return;\\n        }\\n        console.warn(\\\"Loading WebIO Jupyter extension on an ad-hoc basis. Consider enabling the WebIO nbextension for a stabler experience (this should happen automatically when building WebIO).\\\");\\n        require([\\\"/assetserver/074e3bb3a91670d5ceb5e6e41647db8d54f807cd-dist/main.js\\\"], function (webIOModule) {\\n            webIOModule.load_ipython_extension();\\n        });\\n        warning_div.innerHTML = \\\"<strong>Loading WebIO Jupyter extension on an ad-hoc basis. Consider enabling the WebIO nbextension for a stabler experience (this should happen automatically when building WebIO).</strong>\\\";\\n    } else if (window.location.pathname.includes(\\\"/lab\\\")) {\\n        // Guessing JupyterLa\\n        console.log(\\\"Jupyter Lab detected; make sure the @webio/jupyter-lab-provider labextension is installed.\\\");\\n        hide();\\n        return;\\n    }\\n})();\\n\\n</script>\\n<div\\n    id=\\\"webio-warning-17155769163635038402\\\"\\n    class=\\\"output_text output_stderr\\\"\\n    style=\\\"padding: 1em; font-weight: bold;\\\"\\n>\\n    Unable to load WebIO. Please make sure WebIO works for your Jupyter client.\\n    <!-- TODO: link to installation docs. -->\\n</div>\\n\")"
      ]
     },
     "metadata": {},
     "output_type": "display_data"
    }
   ],
   "source": [
    "using Parameters\n",
    "using AutomotiveDrivingModels\n",
    "using AutoViz\n",
    "using Interact"
   ]
  },
  {
   "cell_type": "code",
   "execution_count": 2,
   "metadata": {},
   "outputs": [
    {
     "data": {
      "text/plain": [
       "2"
      ]
     },
     "execution_count": 2,
     "metadata": {},
     "output_type": "execute_result"
    }
   ],
   "source": [
    "# Define sidewalk IDs\n",
    "const TOP = 1\n",
    "const BOTTOM = 2"
   ]
  },
  {
   "cell_type": "markdown",
   "metadata": {},
   "source": [
    "### Creating the Environment\n",
    "Here, we create a new type of environment called SidewalkEnv. It consists of a roadway, crosswalk, and sidewalk. A sidewalk is a Vector of Lanes that run alongside the road."
   ]
  },
  {
   "cell_type": "code",
   "execution_count": 3,
   "metadata": {},
   "outputs": [
    {
     "data": {
      "text/plain": [
       "SidewalkEnv"
      ]
     },
     "execution_count": 3,
     "metadata": {},
     "output_type": "execute_result"
    }
   ],
   "source": [
    "@with_kw mutable struct SidewalkEnv\n",
    "    roadway::Roadway\n",
    "    crosswalk::Lane\n",
    "    sidewalk::Vector{Lane}\n",
    "end"
   ]
  },
  {
   "cell_type": "markdown",
   "metadata": {},
   "source": [
    "#### Defining the Sidewalk\n",
    "We define the sidewalk's parameters."
   ]
  },
  {
   "cell_type": "code",
   "execution_count": 4,
   "metadata": {},
   "outputs": [
    {
     "data": {
      "text/plain": [
       "6.0"
      ]
     },
     "execution_count": 4,
     "metadata": {},
     "output_type": "execute_result"
    }
   ],
   "source": [
    "# Geometry parameters\n",
    "roadway_length = 100.\n",
    "crosswalk_length = 15.\n",
    "crosswalk_width = 6.0\n",
    "crosswalk_pos = roadway_length/2\n",
    "sidewalk_width = 3.0\n",
    "sidewalk_pos = crosswalk_length/2 - sidewalk_width / 2"
   ]
  },
  {
   "cell_type": "markdown",
   "metadata": {},
   "source": [
    "Now we create the sidewalk environment. \n",
    "Our environment will consist of:\n",
    "* 1-way road with 2 lanes\n",
    "* Unsignalized zebra crosswalk perpendicular to the road\n",
    "* Sidewalks above and below the road"
   ]
  },
  {
   "cell_type": "code",
   "execution_count": 5,
   "metadata": {},
   "outputs": [],
   "source": [
    "# Generate straight roadway of length roadway_length with 2 lanes.\n",
    "# Returns a Roadway type (Array of segments).\n",
    "# There is already a method to generate a simple straight roadway, which we use here.\n",
    "roadway = gen_straight_roadway(2, roadway_length) \n",
    "\n",
    "# Generate the crosswalk.\n",
    "# Our crosswalk does not have a predefined method for generation, so we define it with a LaneTag and a curve.\n",
    "n_samples = 2 # for curve generation\n",
    "crosswalk = Lane(LaneTag(2,1), gen_straight_curve(VecE2(crosswalk_pos, -crosswalk_length/2),\n",
    "                                                  VecE2(crosswalk_pos, crosswalk_length/2),\n",
    "                                                   n_samples), width = crosswalk_width)\n",
    "cw_segment = RoadSegment(2, [crosswalk])\n",
    "push!(roadway.segments, cw_segment) # Append the crosswalk to the roadway\n",
    "\n",
    "# Generate the sidewalk.\n",
    "top_sidewalk = Lane(LaneTag(3, TOP), gen_straight_curve(VecE2(0., sidewalk_pos),\n",
    "                                                      VecE2(roadway_length, sidewalk_pos),\n",
    "                                                        n_samples), width = sidewalk_width)\n",
    "bottom_sidewalk = Lane(LaneTag(3, BOTTOM), gen_straight_curve(VecE2(0., -(sidewalk_pos - sidewalk_width)),\n",
    "                                                          VecE2(roadway_length, -(sidewalk_pos - sidewalk_width)),\n",
    "                                                            n_samples), width = sidewalk_width) \n",
    "    # Note: we subtract the sidewalk_width from the sidewalk position so that the edge is flush with the road.\n",
    "\n",
    "\n",
    "sw_segment = RoadSegment(3, [top_sidewalk, bottom_sidewalk])\n",
    "push!(roadway.segments, sw_segment)\n",
    "\n",
    "# Initialize crosswalk environment\n",
    "env = SidewalkEnv(roadway, crosswalk, [top_sidewalk, bottom_sidewalk]);"
   ]
  },
  {
   "cell_type": "markdown",
   "metadata": {},
   "source": [
    "Since there is no defined render! method for the crosswalk and the sidewalk, we must define it ourselves."
   ]
  },
  {
   "cell_type": "code",
   "execution_count": 6,
   "metadata": {},
   "outputs": [],
   "source": [
    "function AutoViz.render!(rendermodel::RenderModel, env::SidewalkEnv)\n",
    "    # Render sidewalk\n",
    "    for sw in env.sidewalk\n",
    "        curve = sw.curve\n",
    "        n = length(curve)\n",
    "        pts = Array{Float64}(undef, 2, n)\n",
    "        for (i,pt) in enumerate(curve)\n",
    "            pts[1,i] = pt.pos.x\n",
    "            pts[2,i] = pt.pos.y\n",
    "        end\n",
    "        add_instruction!(rendermodel, render_line, (pts, colorant\"grey\", sw.width, Cairo.CAIRO_LINE_CAP_BUTT))\n",
    "    end\n",
    "    \n",
    "    # Render roadway\n",
    "    roadway = gen_straight_roadway(2, roadway_length)\n",
    "    render!(rendermodel, roadway)\n",
    "    \n",
    "    # Render crosswalk\n",
    "    curve = env.crosswalk.curve\n",
    "    n = length(curve)\n",
    "    pts = Array{Float64}(undef, 2, n)\n",
    "    for (i,pt) in enumerate(curve)\n",
    "        pts[1,i] = pt.pos.x\n",
    "        pts[2,i] = pt.pos.y\n",
    "    end\n",
    "\n",
    "    # We can add render instructions from AutoViz.\n",
    "    # Here we want the crosswalk to appear as a white-striped zebra crossing rather than a road.\n",
    "    add_instruction!(rendermodel, render_dashed_line, (pts, colorant\"white\", env.crosswalk.width, 1.0, 1.0, 0.0, Cairo.CAIRO_LINE_CAP_BUTT))\n",
    "\n",
    "    return rendermodel\n",
    "end"
   ]
  },
  {
   "cell_type": "code",
   "execution_count": 7,
   "metadata": {},
   "outputs": [],
   "source": [
    "cam = FitToContentCamera(0.0)\n",
    "render(Scene(), env, cam = cam);"
   ]
  },
  {
   "cell_type": "markdown",
   "metadata": {},
   "source": [
    "Now we can define our pedestrian."
   ]
  },
  {
   "cell_type": "code",
   "execution_count": 8,
   "metadata": {},
   "outputs": [
    {
     "data": {
      "text/plain": [
       "VehicleDef(PEDESTRIAN, 1.000, 1.000)"
      ]
     },
     "execution_count": 8,
     "metadata": {},
     "output_type": "execute_result"
    }
   ],
   "source": [
    "# We define its class and the dimensions of its bounding box.\n",
    "const PEDESTRIAN_DEF = VehicleDef(AgentClass.PEDESTRIAN, 1.0, 1.0)"
   ]
  },
  {
   "cell_type": "markdown",
   "metadata": {},
   "source": [
    "We assign models to each agent in the scene."
   ]
  },
  {
   "cell_type": "code",
   "execution_count": 9,
   "metadata": {
    "scrolled": false
   },
   "outputs": [
    {
     "data": {
      "text/plain": [
       "LatLonSeparableDriver(ProportionalLaneTracker(NaN, NaN, 3.0, 2.0), IntelligentDriverModel\n",
       "  a: Float64 NaN\n",
       "  σ: Float64 NaN\n",
       "  k_spd: Float64 1.0\n",
       "  δ: Float64 4.0\n",
       "  T: Float64 1.5\n",
       "  v_des: Float64 29.0\n",
       "  s_min: Float64 5.0\n",
       "  a_max: Float64 3.0\n",
       "  d_cmf: Float64 2.0\n",
       "  d_max: Float64 9.0\n",
       ")"
      ]
     },
     "execution_count": 9,
     "metadata": {},
     "output_type": "execute_result"
    }
   ],
   "source": [
    "timestep = 0.1\n",
    "\n",
    "# Crossing pedestrian definition\n",
    "ped_init_state = VehicleState(VecSE2(49.0,-3.0,0.), env.sidewalk[BOTTOM], roadway, 1.3)\n",
    "ped = Vehicle(ped_init_state, PEDESTRIAN_DEF, 1)\n",
    "\n",
    "# Car definition\n",
    "car_initial_state = VehicleState(VecSE2(0.0, 0., 0.), roadway.segments[1].lanes[1],roadway, 8.0)\n",
    "car = Vehicle(car_initial_state, VehicleDef(), 2)\n",
    "\n",
    "scene = Scene()\n",
    "push!(scene, ped)\n",
    "push!(scene, car)\n",
    "\n",
    "# Define a model for each entity present in the scene\n",
    "models = Dict{Int, DriverModel}()\n",
    "\n",
    "ped_id = 1\n",
    "car_id = 2\n",
    "\n",
    "models[ped_id] = SidewalkPedestrianModel(timestep=timestep, \n",
    "                                            crosswalk=env.crosswalk,\n",
    "                                            sw_origin = env.sidewalk[BOTTOM],\n",
    "                                            sw_dest = env.sidewalk[TOP]\n",
    "                                            )\n",
    "\n",
    "models[car_id] = \n",
    "LatLonSeparableDriver( # produces LatLonAccels\n",
    "        ProportionalLaneTracker(), # lateral model\n",
    "        IntelligentDriverModel(), # longitudinal model\n",
    ")"
   ]
  },
  {
   "cell_type": "markdown",
   "metadata": {},
   "source": [
    "### Simulate\n",
    "Finally, we simulate the scene."
   ]
  },
  {
   "cell_type": "code",
   "execution_count": 10,
   "metadata": {},
   "outputs": [
    {
     "data": {
      "image/png": "[encoded data removed]",
      "text/plain": [
       "Cairo.CairoSurfaceBase{UInt32}(Ptr{Nothing} @0x00000000209a9c00, 1000.0, 600.0)"
      ]
     },
     "execution_count": 10,
     "metadata": {},
     "output_type": "execute_result"
    }
   ],
   "source": [
    "nticks = 300\n",
    "rec = SceneRecord(nticks+1, timestep)\n",
    "# Execute the simulation\n",
    "simulate!(rec, scene, roadway, models, nticks)\n",
    "render(rec[0], env, cam=cam)"
   ]
  },
  {
   "cell_type": "markdown",
   "metadata": {},
   "source": [
    "We can use a slider to scroll through each frame in the simulation. This usually takes less time than rendering a video."
   ]
  },
  {
   "cell_type": "code",
   "execution_count": 11,
   "metadata": {},
   "outputs": [
    {
     "data": {
      "application/vnd.webio.node+json": {
       "children": [
        {
         "children": [
          {
           "children": [
            {
             "children": [
              {
               "children": [
                {
                 "children": [
                  "frame_index"
                 ],
                 "instanceArgs": {
                  "namespace": "html",
                  "tag": "label"
                 },
                 "nodeType": "DOM",
                 "props": {
                  "className": "interact ",
                  "style": {
                   "padding": "5px 10px 0px 10px"
                  }
                 },
                 "type": "node"
                }
               ],
               "instanceArgs": {
                "namespace": "html",
                "tag": "div"
               },
               "nodeType": "DOM",
               "props": {
                "className": "interact-flex-row-left"
               },
               "type": "node"
              },
              {
               "children": [
                {
                 "children": [],
                 "instanceArgs": {
                  "namespace": "html",
                  "tag": "input"
                 },
                 "nodeType": "DOM",
                 "props": {
                  "attributes": {
                   "data-bind": "value: indexString, valueUpdate: 'input', event: {change: function (){this.changes(this.changes()+1)}}",
                   "orient": "horizontal",
                   "type": "range"
                  },
                  "className": "slider slider is-fullwidth",
                  "max": 301,
                  "min": 1,
                  "step": 1,
                  "style": {}
                 },
                 "type": "node"
                }
               ],
               "instanceArgs": {
                "namespace": "html",
                "tag": "div"
               },
               "nodeType": "DOM",
               "props": {
                "className": "interact-flex-row-center"
               },
               "type": "node"
              },
              {
               "children": [
                {
                 "children": [],
                 "instanceArgs": {
                  "namespace": "html",
                  "tag": "p"
                 },
                 "nodeType": "DOM",
                 "props": {
                  "attributes": {
                   "data-bind": "text: formatted_val"
                  }
                 },
                 "type": "node"
                }
               ],
               "instanceArgs": {
                "namespace": "html",
                "tag": "div"
               },
               "nodeType": "DOM",
               "props": {
                "className": "interact-flex-row-right"
               },
               "type": "node"
              }
             ],
             "instanceArgs": {
              "namespace": "html",
              "tag": "div"
             },
             "nodeType": "DOM",
             "props": {
              "className": "interact-flex-row interact-widget"
             },
             "type": "node"
            }
           ],
           "instanceArgs": {
            "handlers": {
             "changes": [
              "(function (val){return (val!=this.model[\"changes\"]()) ? (this.valueFromJulia[\"changes\"]=true, this.model[\"changes\"](val)) : undefined})"
             ],
             "index": [
              "(function (val){return (val!=this.model[\"index\"]()) ? (this.valueFromJulia[\"index\"]=true, this.model[\"index\"](val)) : undefined})"
             ],
             "indexString": [
              "(function (val){return (val!=this.model[\"indexString\"]()) ? (this.valueFromJulia[\"indexString\"]=true, this.model[\"indexString\"](val)) : undefined})"
             ]
            },
            "id": "knockout-component-7dfdc687-c950-4e14-8de4-3d73d131df9f",
            "imports": {
             "data": [
              {
               "name": "knockout",
               "type": "js",
               "url": "/assetserver/3eba94e42381e338b63445bb6165a6b74dfff7fe-knockout.js"
              },
              {
               "name": "knockout_punches",
               "type": "js",
               "url": "/assetserver/0b60b3bed0558f340d8f36b2e588fc19a5331e53-knockout_punches.js"
              },
              {
               "name": null,
               "type": "js",
               "url": "/assetserver/e375b04ed295e371b269e6282dd0ece1d8f25f7c-all.js"
              },
              {
               "name": null,
               "type": "css",
               "url": "/assetserver/74ab3fe28fdc96d2cdde1dc9103cd558bf15dd78-style.css"
              },
              {
               "name": null,
               "type": "css",
               "url": "/assetserver/2b9bd1a7f1fd27241339301563046b45b31a5a73-bulma_confined.min.css"
              }
             ],
             "type": "async_block"
            },
            "mount_callbacks": [
             "function () {\n    var handler = (function (ko, koPunches) {\n    ko.punches.enableAll();\n    ko.bindingHandlers.numericValue = {\n        init : function(element, valueAccessor, allBindings, data, context) {\n            var stringified = ko.observable(ko.unwrap(valueAccessor()));\n            stringified.subscribe(function(value) {\n                var val = parseFloat(value);\n                if (!isNaN(val)) {\n                    valueAccessor()(val);\n                }\n            })\n            valueAccessor().subscribe(function(value) {\n                var str = JSON.stringify(value);\n                if ((str == \"0\") && ([\"-0\", \"-0.\"].indexOf(stringified()) >= 0))\n                     return;\n                 if ([\"null\", \"\"].indexOf(str) >= 0)\n                     return;\n                stringified(str);\n            })\n            ko.applyBindingsToNode(element, { value: stringified, valueUpdate: allBindings.get('valueUpdate')}, context);\n        }\n    };\n    var json_data = {\"formatted_vals\":[\"1\",\"2\",\"3\",\"4\",\"5\",\"6\",\"7\",\"8\",\"9\",\"10\",\"11\",\"12\",\"13\",\"14\",\"15\",\"16\",\"17\",\"18\",\"19\",\"20\",\"21\",\"22\",\"23\",\"24\",\"25\",\"26\",\"27\",\"28\",\"29\",\"30\",\"31\",\"32\",\"33\",\"34\",\"35\",\"36\",\"37\",\"38\",\"39\",\"40\",\"41\",\"42\",\"43\",\"44\",\"45\",\"46\",\"47\",\"48\",\"49\",\"50\",\"51\",\"52\",\"53\",\"54\",\"55\",\"56\",\"57\",\"58\",\"59\",\"60\",\"61\",\"62\",\"63\",\"64\",\"65\",\"66\",\"67\",\"68\",\"69\",\"70\",\"71\",\"72\",\"73\",\"74\",\"75\",\"76\",\"77\",\"78\",\"79\",\"80\",\"81\",\"82\",\"83\",\"84\",\"85\",\"86\",\"87\",\"88\",\"89\",\"90\",\"91\",\"92\",\"93\",\"94\",\"95\",\"96\",\"97\",\"98\",\"99\",\"100\",\"101\",\"102\",\"103\",\"104\",\"105\",\"106\",\"107\",\"108\",\"109\",\"110\",\"111\",\"112\",\"113\",\"114\",\"115\",\"116\",\"117\",\"118\",\"119\",\"120\",\"121\",\"122\",\"123\",\"124\",\"125\",\"126\",\"127\",\"128\",\"129\",\"130\",\"131\",\"132\",\"133\",\"134\",\"135\",\"136\",\"137\",\"138\",\"139\",\"140\",\"141\",\"142\",\"143\",\"144\",\"145\",\"146\",\"147\",\"148\",\"149\",\"150\",\"151\",\"152\",\"153\",\"154\",\"155\",\"156\",\"157\",\"158\",\"159\",\"160\",\"161\",\"162\",\"163\",\"164\",\"165\",\"166\",\"167\",\"168\",\"169\",\"170\",\"171\",\"172\",\"173\",\"174\",\"175\",\"176\",\"177\",\"178\",\"179\",\"180\",\"181\",\"182\",\"183\",\"184\",\"185\",\"186\",\"187\",\"188\",\"189\",\"190\",\"191\",\"192\",\"193\",\"194\",\"195\",\"196\",\"197\",\"198\",\"199\",\"200\",\"201\",\"202\",\"203\",\"204\",\"205\",\"206\",\"207\",\"208\",\"209\",\"210\",\"211\",\"212\",\"213\",\"214\",\"215\",\"216\",\"217\",\"218\",\"219\",\"220\",\"221\",\"222\",\"223\",\"224\",\"225\",\"226\",\"227\",\"228\",\"229\",\"230\",\"231\",\"232\",\"233\",\"234\",\"235\",\"236\",\"237\",\"238\",\"239\",\"240\",\"241\",\"242\",\"243\",\"244\",\"245\",\"246\",\"247\",\"248\",\"249\",\"250\",\"251\",\"252\",\"253\",\"254\",\"255\",\"256\",\"257\",\"258\",\"259\",\"260\",\"261\",\"262\",\"263\",\"264\",\"265\",\"266\",\"267\",\"268\",\"269\",\"270\",\"271\",\"272\",\"273\",\"274\",\"275\",\"276\",\"277\",\"278\",\"279\",\"280\",\"281\",\"282\",\"283\",\"284\",\"285\",\"286\",\"287\",\"288\",\"289\",\"290\",\"291\",\"292\",\"293\",\"294\",\"295\",\"296\",\"297\",\"298\",\"299\",\"300\",\"301\"],\"changes\":WebIO.getval({\"name\":\"changes\",\"scope\":\"knockout-component-7dfdc687-c950-4e14-8de4-3d73d131df9f\",\"id\":\"ob_02\",\"type\":\"observable\"}),\"indexString\":WebIO.getval({\"name\":\"indexString\",\"scope\":\"knockout-component-7dfdc687-c950-4e14-8de4-3d73d131df9f\",\"id\":\"ob_03\",\"type\":\"observable\"}),\"index\":WebIO.getval({\"name\":\"index\",\"scope\":\"knockout-component-7dfdc687-c950-4e14-8de4-3d73d131df9f\",\"id\":\"ob_01\",\"type\":\"observable\"})};\n    var self = this;\n    function AppViewModel() {\n        for (var key in json_data) {\n            var el = json_data[key];\n            this[key] = Array.isArray(el) ? ko.observableArray(el) : ko.observable(el);\n        }\n        \n        [this[\"formatted_val\"]=ko.computed(    function(){\n        return this.formatted_vals()[parseInt(this.index())-1];\n    }\n,this)]\n        [this[\"changes\"].subscribe((function (val){!(this.valueFromJulia[\"changes\"]) ? (WebIO.setval({\"name\":\"changes\",\"scope\":\"knockout-component-7dfdc687-c950-4e14-8de4-3d73d131df9f\",\"id\":\"ob_02\",\"type\":\"observable\"},val)) : undefined; return this.valueFromJulia[\"changes\"]=false}),self),this[\"indexString\"].subscribe((function (val){!(this.valueFromJulia[\"indexString\"]) ? (WebIO.setval({\"name\":\"indexString\",\"scope\":\"knockout-component-7dfdc687-c950-4e14-8de4-3d73d131df9f\",\"id\":\"ob_03\",\"type\":\"observable\"},val)) : undefined; return this.valueFromJulia[\"indexString\"]=false}),self),this[\"index\"].subscribe((function (val){!(this.valueFromJulia[\"index\"]) ? (WebIO.setval({\"name\":\"index\",\"scope\":\"knockout-component-7dfdc687-c950-4e14-8de4-3d73d131df9f\",\"id\":\"ob_01\",\"type\":\"observable\"},val)) : undefined; return this.valueFromJulia[\"index\"]=false}),self)]\n                var obs = this.index;\n    var obsString = this.indexString;\n    obsString.subscribe(function(value) {\n        var val = parseFloat(value);\n        if (!isNaN(val)) {\n            obs(val);\n        }\n    })\n    obs.subscribe(function(value) {\n        var str = JSON.stringify(value);\n        if ((str == \"0\") && ([\"-0\", \"-0.\"].indexOf(obsString()) >= 0))\n             return;\n         if ([\"null\", \"\"].indexOf(str) >= 0)\n             return;\n        obsString(str);\n    })\n\n    \n\n    }\n    self.model = new AppViewModel();\n    self.valueFromJulia = {};\n    for (var key in json_data) {\n        self.valueFromJulia[key] = false;\n    }\n    ko.applyBindings(self.model, self.dom);\n}\n);\n    (WebIO.importBlock({\"data\":[{\"name\":\"knockout\",\"type\":\"js\",\"url\":\"/assetserver/3eba94e42381e338b63445bb6165a6b74dfff7fe-knockout.js\"},{\"name\":\"knockout_punches\",\"type\":\"js\",\"url\":\"/assetserver/0b60b3bed0558f340d8f36b2e588fc19a5331e53-knockout_punches.js\"}],\"type\":\"async_block\"})).then((imports) => handler.apply(this, imports));\n}\n"
            ],
            "observables": {
             "changes": {
              "id": "ob_02",
              "sync": false,
              "value": 0
             },
             "index": {
              "id": "ob_01",
              "sync": true,
              "value": 151
             },
             "indexString": {
              "id": "ob_03",
              "sync": false,
              "value": "151"
             }
            },
            "systemjs_options": null
           },
           "nodeType": "Scope",
           "props": {},
           "type": "node"
          }
         ],
         "instanceArgs": {
          "namespace": "html",
          "tag": "div"
         },
         "nodeType": "DOM",
         "props": {
          "className": "field interact-widget"
         },
         "type": "node"
        },
        {
         "children": [
          {
           "children": [],
           "instanceArgs": {
            "id": "ob_09",
            "name": "obs-node"
           },
           "nodeType": "ObservableNode",
           "props": {},
           "type": "node"
          }
         ],
         "instanceArgs": {
          "handlers": {},
          "id": "scope-05c5f52f-549f-401a-828a-b9b7a548d947",
          "imports": {
           "data": [],
           "type": "async_block"
          },
          "mount_callbacks": [],
          "observables": {
           "obs-node": {
            "id": "ob_09",
            "sync": false,
            "value": {
             "children": [
              {
               "children": [],
               "instanceArgs": {
                "namespace": "html",
                "tag": "div"
               },
               "nodeType": "DOM",
               "props": {
                "setInnerHtml": "<img src='data:image/png;base64,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'></img>"
               },
               "type": "node"
              }
             ],
             "instanceArgs": {
              "namespace": "html",
              "tag": "div"
             },
             "nodeType": "DOM",
             "props": {
              "className": "interact-flex-row interact-widget"
             },
             "type": "node"
            }
           }
          },
          "systemjs_options": null
         },
         "nodeType": "Scope",
         "props": {},
         "type": "node"
        }
       ],
       "instanceArgs": {
        "namespace": "html",
        "tag": "div"
       },
       "nodeType": "DOM",
       "props": {},
       "type": "node"
      },
      "text/html": [
       "<div\n",
       "    class=\"webio-mountpoint\"\n",
       "    data-webio-mountpoint=\"12195784899216798969\"\n",
       ">\n",
       "    <script>\n",
       "    if (window.require && require.defined && require.defined(\"nbextensions/webio/main\")) {\n",
       "        console.log(\"Jupyter WebIO extension detected, not mounting.\");\n",
       "    } else if (window.WebIO) {\n",
       "        WebIO.mount(\n",
       "            document.querySelector('[data-webio-mountpoint=\"12195784899216798969\"]'),\n",
       "            {\"props\":{},\"nodeType\":\"DOM\",\"type\":\"node\",\"instanceArgs\":{\"namespace\":\"html\",\"tag\":\"div\"},\"children\":[{\"props\":{\"className\":\"field interact-widget\"},\"nodeType\":\"DOM\",\"type\":\"node\",\"instanceArgs\":{\"namespace\":\"html\",\"tag\":\"div\"},\"children\":[{\"props\":{},\"nodeType\":\"Scope\",\"type\":\"node\",\"instanceArgs\":{\"imports\":{\"data\":[{\"name\":\"knockout\",\"type\":\"js\",\"url\":\"\\/assetserver\\/3eba94e42381e338b63445bb6165a6b74dfff7fe-knockout.js\"},{\"name\":\"knockout_punches\",\"type\":\"js\",\"url\":\"\\/assetserver\\/0b60b3bed0558f340d8f36b2e588fc19a5331e53-knockout_punches.js\"},{\"name\":null,\"type\":\"js\",\"url\":\"\\/assetserver\\/e375b04ed295e371b269e6282dd0ece1d8f25f7c-all.js\"},{\"name\":null,\"type\":\"css\",\"url\":\"\\/assetserver\\/74ab3fe28fdc96d2cdde1dc9103cd558bf15dd78-style.css\"},{\"name\":null,\"type\":\"css\",\"url\":\"\\/assetserver\\/2b9bd1a7f1fd27241339301563046b45b31a5a73-bulma_confined.min.css\"}],\"type\":\"async_block\"},\"id\":\"knockout-component-7dfdc687-c950-4e14-8de4-3d73d131df9f\",\"handlers\":{\"changes\":[\"(function (val){return (val!=this.model[\\\"changes\\\"]()) ? (this.valueFromJulia[\\\"changes\\\"]=true, this.model[\\\"changes\\\"](val)) : undefined})\"],\"indexString\":[\"(function (val){return (val!=this.model[\\\"indexString\\\"]()) ? (this.valueFromJulia[\\\"indexString\\\"]=true, this.model[\\\"indexString\\\"](val)) : undefined})\"],\"index\":[\"(function (val){return (val!=this.model[\\\"index\\\"]()) ? (this.valueFromJulia[\\\"index\\\"]=true, this.model[\\\"index\\\"](val)) : undefined})\"]},\"systemjs_options\":null,\"mount_callbacks\":[\"function () {\\n    var handler = (function (ko, koPunches) {\\n    ko.punches.enableAll();\\n    ko.bindingHandlers.numericValue = {\\n        init : function(element, valueAccessor, allBindings, data, context) {\\n            var stringified = ko.observable(ko.unwrap(valueAccessor()));\\n            stringified.subscribe(function(value) {\\n                var val = parseFloat(value);\\n                if (!isNaN(val)) {\\n                    valueAccessor()(val);\\n                }\\n            })\\n            valueAccessor().subscribe(function(value) {\\n                var str = JSON.stringify(value);\\n                if ((str == \\\"0\\\") && ([\\\"-0\\\", \\\"-0.\\\"].indexOf(stringified()) >= 0))\\n                     return;\\n                 if ([\\\"null\\\", \\\"\\\"].indexOf(str) >= 0)\\n                     return;\\n                stringified(str);\\n            })\\n            ko.applyBindingsToNode(element, { value: stringified, valueUpdate: allBindings.get('valueUpdate')}, context);\\n        }\\n    };\\n    var json_data = {\\\"formatted_vals\\\":[\\\"1\\\",\\\"2\\\",\\\"3\\\",\\\"4\\\",\\\"5\\\",\\\"6\\\",\\\"7\\\",\\\"8\\\",\\\"9\\\",\\\"10\\\",\\\"11\\\",\\\"12\\\",\\\"13\\\",\\\"14\\\",\\\"15\\\",\\\"16\\\",\\\"17\\\",\\\"18\\\",\\\"19\\\",\\\"20\\\",\\\"21\\\",\\\"22\\\",\\\"23\\\",\\\"24\\\",\\\"25\\\",\\\"26\\\",\\\"27\\\",\\\"28\\\",\\\"29\\\",\\\"30\\\",\\\"31\\\",\\\"32\\\",\\\"33\\\",\\\"34\\\",\\\"35\\\",\\\"36\\\",\\\"37\\\",\\\"38\\\",\\\"39\\\",\\\"40\\\",\\\"41\\\",\\\"42\\\",\\\"43\\\",\\\"44\\\",\\\"45\\\",\\\"46\\\",\\\"47\\\",\\\"48\\\",\\\"49\\\",\\\"50\\\",\\\"51\\\",\\\"52\\\",\\\"53\\\",\\\"54\\\",\\\"55\\\",\\\"56\\\",\\\"57\\\",\\\"58\\\",\\\"59\\\",\\\"60\\\",\\\"61\\\",\\\"62\\\",\\\"63\\\",\\\"64\\\",\\\"65\\\",\\\"66\\\",\\\"67\\\",\\\"68\\\",\\\"69\\\",\\\"70\\\",\\\"71\\\",\\\"72\\\",\\\"73\\\",\\\"74\\\",\\\"75\\\",\\\"76\\\",\\\"77\\\",\\\"78\\\",\\\"79\\\",\\\"80\\\",\\\"81\\\",\\\"82\\\",\\\"83\\\",\\\"84\\\",\\\"85\\\",\\\"86\\\",\\\"87\\\",\\\"88\\\",\\\"89\\\",\\\"90\\\",\\\"91\\\",\\\"92\\\",\\\"93\\\",\\\"94\\\",\\\"95\\\",\\\"96\\\",\\\"97\\\",\\\"98\\\",\\\"99\\\",\\\"100\\\",\\\"101\\\",\\\"102\\\",\\\"103\\\",\\\"104\\\",\\\"105\\\",\\\"106\\\",\\\"107\\\",\\\"108\\\",\\\"109\\\",\\\"110\\\",\\\"111\\\",\\\"112\\\",\\\"113\\\",\\\"114\\\",\\\"115\\\",\\\"116\\\",\\\"117\\\",\\\"118\\\",\\\"119\\\",\\\"120\\\",\\\"121\\\",\\\"122\\\",\\\"123\\\",\\\"124\\\",\\\"125\\\",\\\"126\\\",\\\"127\\\",\\\"128\\\",\\\"129\\\",\\\"130\\\",\\\"131\\\",\\\"132\\\",\\\"133\\\",\\\"134\\\",\\\"135\\\",\\\"136\\\",\\\"137\\\",\\\"138\\\",\\\"139\\\",\\\"140\\\",\\\"141\\\",\\\"142\\\",\\\"143\\\",\\\"144\\\",\\\"145\\\",\\\"146\\\",\\\"147\\\",\\\"148\\\",\\\"149\\\",\\\"150\\\",\\\"151\\\",\\\"152\\\",\\\"153\\\",\\\"154\\\",\\\"155\\\",\\\"156\\\",\\\"157\\\",\\\"158\\\",\\\"159\\\",\\\"160\\\",\\\"161\\\",\\\"162\\\",\\\"163\\\",\\\"164\\\",\\\"165\\\",\\\"166\\\",\\\"167\\\",\\\"168\\\",\\\"169\\\",\\\"170\\\",\\\"171\\\",\\\"172\\\",\\\"173\\\",\\\"174\\\",\\\"175\\\",\\\"176\\\",\\\"177\\\",\\\"178\\\",\\\"179\\\",\\\"180\\\",\\\"181\\\",\\\"182\\\",\\\"183\\\",\\\"184\\\",\\\"185\\\",\\\"186\\\",\\\"187\\\",\\\"188\\\",\\\"189\\\",\\\"190\\\",\\\"191\\\",\\\"192\\\",\\\"193\\\",\\\"194\\\",\\\"195\\\",\\\"196\\\",\\\"197\\\",\\\"198\\\",\\\"199\\\",\\\"200\\\",\\\"201\\\",\\\"202\\\",\\\"203\\\",\\\"204\\\",\\\"205\\\",\\\"206\\\",\\\"207\\\",\\\"208\\\",\\\"209\\\",\\\"210\\\",\\\"211\\\",\\\"212\\\",\\\"213\\\",\\\"214\\\",\\\"215\\\",\\\"216\\\",\\\"217\\\",\\\"218\\\",\\\"219\\\",\\\"220\\\",\\\"221\\\",\\\"222\\\",\\\"223\\\",\\\"224\\\",\\\"225\\\",\\\"226\\\",\\\"227\\\",\\\"228\\\",\\\"229\\\",\\\"230\\\",\\\"231\\\",\\\"232\\\",\\\"233\\\",\\\"234\\\",\\\"235\\\",\\\"236\\\",\\\"237\\\",\\\"238\\\",\\\"239\\\",\\\"240\\\",\\\"241\\\",\\\"242\\\",\\\"243\\\",\\\"244\\\",\\\"245\\\",\\\"246\\\",\\\"247\\\",\\\"248\\\",\\\"249\\\",\\\"250\\\",\\\"251\\\",\\\"252\\\",\\\"253\\\",\\\"254\\\",\\\"255\\\",\\\"256\\\",\\\"257\\\",\\\"258\\\",\\\"259\\\",\\\"260\\\",\\\"261\\\",\\\"262\\\",\\\"263\\\",\\\"264\\\",\\\"265\\\",\\\"266\\\",\\\"267\\\",\\\"268\\\",\\\"269\\\",\\\"270\\\",\\\"271\\\",\\\"272\\\",\\\"273\\\",\\\"274\\\",\\\"275\\\",\\\"276\\\",\\\"277\\\",\\\"278\\\",\\\"279\\\",\\\"280\\\",\\\"281\\\",\\\"282\\\",\\\"283\\\",\\\"284\\\",\\\"285\\\",\\\"286\\\",\\\"287\\\",\\\"288\\\",\\\"289\\\",\\\"290\\\",\\\"291\\\",\\\"292\\\",\\\"293\\\",\\\"294\\\",\\\"295\\\",\\\"296\\\",\\\"297\\\",\\\"298\\\",\\\"299\\\",\\\"300\\\",\\\"301\\\"],\\\"changes\\\":WebIO.getval({\\\"name\\\":\\\"changes\\\",\\\"scope\\\":\\\"knockout-component-7dfdc687-c950-4e14-8de4-3d73d131df9f\\\",\\\"id\\\":\\\"ob_02\\\",\\\"type\\\":\\\"observable\\\"}),\\\"indexString\\\":WebIO.getval({\\\"name\\\":\\\"indexString\\\",\\\"scope\\\":\\\"knockout-component-7dfdc687-c950-4e14-8de4-3d73d131df9f\\\",\\\"id\\\":\\\"ob_03\\\",\\\"type\\\":\\\"observable\\\"}),\\\"index\\\":WebIO.getval({\\\"name\\\":\\\"index\\\",\\\"scope\\\":\\\"knockout-component-7dfdc687-c950-4e14-8de4-3d73d131df9f\\\",\\\"id\\\":\\\"ob_01\\\",\\\"type\\\":\\\"observable\\\"})};\\n    var self = this;\\n    function AppViewModel() {\\n        for (var key in json_data) {\\n            var el = json_data[key];\\n            this[key] = Array.isArray(el) ? ko.observableArray(el) : ko.observable(el);\\n        }\\n        \\n        [this[\\\"formatted_val\\\"]=ko.computed(    function(){\\n        return this.formatted_vals()[parseInt(this.index())-1];\\n    }\\n,this)]\\n        [this[\\\"changes\\\"].subscribe((function (val){!(this.valueFromJulia[\\\"changes\\\"]) ? (WebIO.setval({\\\"name\\\":\\\"changes\\\",\\\"scope\\\":\\\"knockout-component-7dfdc687-c950-4e14-8de4-3d73d131df9f\\\",\\\"id\\\":\\\"ob_02\\\",\\\"type\\\":\\\"observable\\\"},val)) : undefined; return this.valueFromJulia[\\\"changes\\\"]=false}),self),this[\\\"indexString\\\"].subscribe((function (val){!(this.valueFromJulia[\\\"indexString\\\"]) ? (WebIO.setval({\\\"name\\\":\\\"indexString\\\",\\\"scope\\\":\\\"knockout-component-7dfdc687-c950-4e14-8de4-3d73d131df9f\\\",\\\"id\\\":\\\"ob_03\\\",\\\"type\\\":\\\"observable\\\"},val)) : undefined; return this.valueFromJulia[\\\"indexString\\\"]=false}),self),this[\\\"index\\\"].subscribe((function (val){!(this.valueFromJulia[\\\"index\\\"]) ? (WebIO.setval({\\\"name\\\":\\\"index\\\",\\\"scope\\\":\\\"knockout-component-7dfdc687-c950-4e14-8de4-3d73d131df9f\\\",\\\"id\\\":\\\"ob_01\\\",\\\"type\\\":\\\"observable\\\"},val)) : undefined; return this.valueFromJulia[\\\"index\\\"]=false}),self)]\\n                var obs = this.index;\\n    var obsString = this.indexString;\\n    obsString.subscribe(function(value) {\\n        var val = parseFloat(value);\\n        if (!isNaN(val)) {\\n            obs(val);\\n        }\\n    })\\n    obs.subscribe(function(value) {\\n        var str = JSON.stringify(value);\\n        if ((str == \\\"0\\\") && ([\\\"-0\\\", \\\"-0.\\\"].indexOf(obsString()) >= 0))\\n             return;\\n         if ([\\\"null\\\", \\\"\\\"].indexOf(str) >= 0)\\n             return;\\n        obsString(str);\\n    })\\n\\n    \\n\\n    }\\n    self.model = new AppViewModel();\\n    self.valueFromJulia = {};\\n    for (var key in json_data) {\\n        self.valueFromJulia[key] = false;\\n    }\\n    ko.applyBindings(self.model, self.dom);\\n}\\n);\\n    (WebIO.importBlock({\\\"data\\\":[{\\\"name\\\":\\\"knockout\\\",\\\"type\\\":\\\"js\\\",\\\"url\\\":\\\"\\/assetserver\\/3eba94e42381e338b63445bb6165a6b74dfff7fe-knockout.js\\\"},{\\\"name\\\":\\\"knockout_punches\\\",\\\"type\\\":\\\"js\\\",\\\"url\\\":\\\"\\/assetserver\\/0b60b3bed0558f340d8f36b2e588fc19a5331e53-knockout_punches.js\\\"}],\\\"type\\\":\\\"async_block\\\"})).then((imports) => handler.apply(this, imports));\\n}\\n\"],\"observables\":{\"changes\":{\"sync\":false,\"id\":\"ob_02\",\"value\":0},\"indexString\":{\"sync\":false,\"id\":\"ob_03\",\"value\":\"151\"},\"index\":{\"sync\":true,\"id\":\"ob_01\",\"value\":151}}},\"children\":[{\"props\":{\"className\":\"interact-flex-row interact-widget\"},\"nodeType\":\"DOM\",\"type\":\"node\",\"instanceArgs\":{\"namespace\":\"html\",\"tag\":\"div\"},\"children\":[{\"props\":{\"className\":\"interact-flex-row-left\"},\"nodeType\":\"DOM\",\"type\":\"node\",\"instanceArgs\":{\"namespace\":\"html\",\"tag\":\"div\"},\"children\":[{\"props\":{\"className\":\"interact \",\"style\":{\"padding\":\"5px 10px 0px 10px\"}},\"nodeType\":\"DOM\",\"type\":\"node\",\"instanceArgs\":{\"namespace\":\"html\",\"tag\":\"label\"},\"children\":[\"frame_index\"]}]},{\"props\":{\"className\":\"interact-flex-row-center\"},\"nodeType\":\"DOM\",\"type\":\"node\",\"instanceArgs\":{\"namespace\":\"html\",\"tag\":\"div\"},\"children\":[{\"props\":{\"max\":301,\"min\":1,\"attributes\":{\"type\":\"range\",\"data-bind\":\"value: indexString, valueUpdate: 'input', event: {change: function (){this.changes(this.changes()+1)}}\",\"orient\":\"horizontal\"},\"step\":1,\"className\":\"slider slider is-fullwidth\",\"style\":{}},\"nodeType\":\"DOM\",\"type\":\"node\",\"instanceArgs\":{\"namespace\":\"html\",\"tag\":\"input\"},\"children\":[]}]},{\"props\":{\"className\":\"interact-flex-row-right\"},\"nodeType\":\"DOM\",\"type\":\"node\",\"instanceArgs\":{\"namespace\":\"html\",\"tag\":\"div\"},\"children\":[{\"props\":{\"attributes\":{\"data-bind\":\"text: formatted_val\"}},\"nodeType\":\"DOM\",\"type\":\"node\",\"instanceArgs\":{\"namespace\":\"html\",\"tag\":\"p\"},\"children\":[]}]}]}]}]},{\"props\":{},\"nodeType\":\"Scope\",\"type\":\"node\",\"instanceArgs\":{\"imports\":{\"data\":[],\"type\":\"async_block\"},\"id\":\"scope-36907662-a792-4552-90ea-9ffa25ea5739\",\"handlers\":{},\"systemjs_options\":null,\"mount_callbacks\":[],\"observables\":{\"obs-node\":{\"sync\":false,\"id\":\"ob_07\",\"value\":{\"props\":{\"className\":\"interact-flex-row interact-widget\"},\"nodeType\":\"DOM\",\"type\":\"node\",\"instanceArgs\":{\"namespace\":\"html\",\"tag\":\"div\"},\"children\":[{\"props\":{\"setInnerHtml\":\"<img src='data:image\\/png;base64,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'><\\/img>\"},\"nodeType\":\"DOM\",\"type\":\"node\",\"instanceArgs\":{\"namespace\":\"html\",\"tag\":\"div\"},\"children\":[]}]}}}},\"children\":[{\"props\":{},\"nodeType\":\"ObservableNode\",\"type\":\"node\",\"instanceArgs\":{\"id\":\"ob_07\",\"name\":\"obs-node\"},\"children\":[]}]}]},\n",
       "            window,\n",
       "        );\n",
       "    } else {\n",
       "        document\n",
       "            .querySelector('[data-webio-mountpoint=\"12195784899216798969\"]')\n",
       "            .innerHTML = '<strong>WebIO not detected.</strong>';\n",
       "    }\n",
       "    </script>\n",
       "</div>\n"
      ],
      "text/plain": [
       "Node{WebIO.DOM}(WebIO.DOM(:html, :div), Any[Node{DOM}(DOM(:html, :div), Any[Scope(\"knockout-component-7dfdc687-c950-4e14-8de4-3d73d131df9f\", Node{DOM}(DOM(:html, :div), Any[Node{DOM}(DOM(:html, :div), Any[Node{DOM}(DOM(:html, :label), Any[\"frame_index\"], Dict{Symbol,Any}(:className=>\"interact \",:style=>Dict{Any,Any}(:padding=>\"5px 10px 0px 10px\")), 1)], Dict{Symbol,Any}(:className=>\"interact-flex-row-left\"), 2), Node{DOM}(DOM(:html, :div), Any[Node{DOM}(DOM(:html, :input), Any[], Dict{Symbol,Any}(:max=>301,:min=>1,:attributes=>Dict{Any,Any}(:type=>\"range\",Symbol(\"data-bind\")=>\"value: indexString, valueUpdate: 'input', event: {change: function (){this.changes(this.changes()+1)}}\",\"orient\"=>\"horizontal\"),:step=>1,:className=>\"slider slider is-fullwidth\",:style=>Dict{Any,Any}()), 0)], Dict{Symbol,Any}(:className=>\"interact-flex-row-center\"), 1), Node{DOM}(DOM(:html, :div), Any[Node{DOM}(DOM(:html, :p), Any[], Dict{Symbol,Any}(:attributes=>Dict(\"data-bind\"=>\"text: formatted_val\")), 0)], Dict{Symbol,Any}(:className=>\"interact-flex-row-right\"), 1)], Dict{Symbol,Any}(:className=>\"interact-flex-row interact-widget\"), 7), Dict{String,Tuple{Observables.AbstractObservable,Union{Nothing, Bool}}}(\"changes\"=>(Observable{Int64} with 1 listeners. Value:\n",
       "0, nothing),\"indexString\"=>(Observable{String} with 1 listeners. Value:\n",
       "\"151\", nothing),\"index\"=>(Observable{Int64} with 2 listeners. Value:\n",
       "151, nothing)), Set(String[]), nothing, Asset[Asset(\"js\", \"knockout\", \"C:\\\\Users\\\\Maxime\\\\.julia\\\\packages\\\\Knockout\\\\JE2Yq\\\\src\\\\..\\\\assets\\\\knockout.js\"), Asset(\"js\", \"knockout_punches\", \"C:\\\\Users\\\\Maxime\\\\.julia\\\\packages\\\\Knockout\\\\JE2Yq\\\\src\\\\..\\\\assets\\\\knockout_punches.js\"), Asset(\"js\", nothing, \"C:\\\\Users\\\\Maxime\\\\.julia\\\\packages\\\\InteractBase\\\\jyXKw\\\\src\\\\..\\\\assets\\\\all.js\"), Asset(\"css\", nothing, \"C:\\\\Users\\\\Maxime\\\\.julia\\\\packages\\\\InteractBase\\\\jyXKw\\\\src\\\\..\\\\assets\\\\style.css\"), Asset(\"css\", nothing, \"C:\\\\Users\\\\Maxime\\\\.julia\\\\packages\\\\Interact\\\\Fs3lV\\\\src\\\\..\\\\assets\\\\bulma_confined.min.css\")], Dict{Any,Any}(\"changes\"=>Any[JSString(\"(function (val){return (val!=this.model[\\\"changes\\\"]()) ? (this.valueFromJulia[\\\"changes\\\"]=true, this.model[\\\"changes\\\"](val)) : undefined})\")],\"indexString\"=>Any[JSString(\"(function (val){return (val!=this.model[\\\"indexString\\\"]()) ? (this.valueFromJulia[\\\"indexString\\\"]=true, this.model[\\\"indexString\\\"](val)) : undefined})\")],\"index\"=>Any[JSString(\"(function (val){return (val!=this.model[\\\"index\\\"]()) ? (this.valueFromJulia[\\\"index\\\"]=true, this.model[\\\"index\\\"](val)) : undefined})\")]), ConnectionPool(Channel{Any}(sz_max:9223372036854775807,sz_curr:0), Set(AbstractConnection[]), Channel{AbstractConnection}(sz_max:32,sz_curr:0)), WebIO.JSString[JSString(\"function () {\\n    var handler = (function (ko, koPunches) {\\n    ko.punches.enableAll();\\n    ko.bindingHandlers.numericValue = {\\n        init : function(element, valueAccessor, allBindings, data, context) {\\n            var stringified = ko.observable(ko.unwrap(valueAccessor()));\\n            stringified.subscribe(function(value) {\\n                var val = parseFloat(value);\\n                if (!isNaN(val)) {\\n                    valueAccessor()(val);\\n                }\\n            })\\n            valueAccessor().subscribe(function(value) {\\n                var str = JSON.stringify(value);\\n                if ((str == \\\"0\\\") && ([\\\"-0\\\", \\\"-0.\\\"].indexOf(stringified()) >= 0))\\n                     return;\\n                 if ([\\\"null\\\", \\\"\\\"].indexOf(str) >= 0)\\n                     return;\\n                stringified(str);\\n            })\\n            ko.applyBindingsToNode(element, { value: stringified, valueUpdate: allBindings.get('valueUpdate')}, context);\\n        }\\n    };\\n    var json_data = {\\\"formatted_vals\\\":[\\\"1\\\",\\\"2\\\",\\\"3\\\",\\\"4\\\",\\\"5\\\",\\\"6\\\",\\\"7\\\",\\\"8\\\",\\\"9\\\",\\\"10\\\",\\\"11\\\",\\\"12\\\",\\\"13\\\",\\\"14\\\",\\\"15\\\",\\\"16\\\",\\\"17\\\",\\\"18\\\",\\\"19\\\",\\\"20\\\",\\\"21\\\",\\\"22\\\",\\\"23\\\",\\\"24\\\",\\\"25\\\",\\\"26\\\",\\\"27\\\",\\\"28\\\",\\\"29\\\",\\\"30\\\",\\\"31\\\",\\\"32\\\",\\\"33\\\",\\\"34\\\",\\\"35\\\",\\\"36\\\",\\\"37\\\",\\\"38\\\",\\\"39\\\",\\\"40\\\",\\\"41\\\",\\\"42\\\",\\\"43\\\",\\\"44\\\",\\\"45\\\",\\\"46\\\",\\\"47\\\",\\\"48\\\",\\\"49\\\",\\\"50\\\",\\\"51\\\",\\\"52\\\",\\\"53\\\",\\\"54\\\",\\\"55\\\",\\\"56\\\",\\\"57\\\",\\\"58\\\",\\\"59\\\",\\\"60\\\",\\\"61\\\",\\\"62\\\",\\\"63\\\",\\\"64\\\",\\\"65\\\",\\\"66\\\",\\\"67\\\",\\\"68\\\",\\\"69\\\",\\\"70\\\",\\\"71\\\",\\\"72\\\",\\\"73\\\",\\\"74\\\",\\\"75\\\",\\\"76\\\",\\\"77\\\",\\\"78\\\",\\\"79\\\",\\\"80\\\",\\\"81\\\",\\\"82\\\",\\\"83\\\",\\\"84\\\",\\\"85\\\",\\\"86\\\",\\\"87\\\",\\\"88\\\",\\\"89\\\",\\\"90\\\",\\\"91\\\",\\\"92\\\",\\\"93\\\",\\\"94\\\",\\\"95\\\",\\\"96\\\",\\\"97\\\",\\\"98\\\",\\\"99\\\",\\\"100\\\",\\\"101\\\",\\\"102\\\",\\\"103\\\",\\\"104\\\",\\\"105\\\",\\\"106\\\",\\\"107\\\",\\\"108\\\",\\\"109\\\",\\\"110\\\",\\\"111\\\",\\\"112\\\",\\\"113\\\",\\\"114\\\",\\\"115\\\",\\\"116\\\",\\\"117\\\",\\\"118\\\",\\\"119\\\",\\\"120\\\",\\\"121\\\",\\\"122\\\",\\\"123\\\",\\\"124\\\",\\\"125\\\",\\\"126\\\",\\\"127\\\",\\\"128\\\",\\\"129\\\",\\\"130\\\",\\\"131\\\",\\\"132\\\",\\\"133\\\",\\\"134\\\",\\\"135\\\",\\\"136\\\",\\\"137\\\",\\\"138\\\",\\\"139\\\",\\\"140\\\",\\\"141\\\",\\\"142\\\",\\\"143\\\",\\\"144\\\",\\\"145\\\",\\\"146\\\",\\\"147\\\",\\\"148\\\",\\\"149\\\",\\\"150\\\",\\\"151\\\",\\\"152\\\",\\\"153\\\",\\\"154\\\",\\\"155\\\",\\\"156\\\",\\\"157\\\",\\\"158\\\",\\\"159\\\",\\\"160\\\",\\\"161\\\",\\\"162\\\",\\\"163\\\",\\\"164\\\",\\\"165\\\",\\\"166\\\",\\\"167\\\",\\\"168\\\",\\\"169\\\",\\\"170\\\",\\\"171\\\",\\\"172\\\",\\\"173\\\",\\\"174\\\",\\\"175\\\",\\\"176\\\",\\\"177\\\",\\\"178\\\",\\\"179\\\",\\\"180\\\",\\\"181\\\",\\\"182\\\",\\\"183\\\",\\\"184\\\",\\\"185\\\",\\\"186\\\",\\\"187\\\",\\\"188\\\",\\\"189\\\",\\\"190\\\",\\\"191\\\",\\\"192\\\",\\\"193\\\",\\\"194\\\",\\\"195\\\",\\\"196\\\",\\\"197\\\",\\\"198\\\",\\\"199\\\",\\\"200\\\",\\\"201\\\",\\\"202\\\",\\\"203\\\",\\\"204\\\",\\\"205\\\",\\\"206\\\",\\\"207\\\",\\\"208\\\",\\\"209\\\",\\\"210\\\",\\\"211\\\",\\\"212\\\",\\\"213\\\",\\\"214\\\",\\\"215\\\",\\\"216\\\",\\\"217\\\",\\\"218\\\",\\\"219\\\",\\\"220\\\",\\\"221\\\",\\\"222\\\",\\\"223\\\",\\\"224\\\",\\\"225\\\",\\\"226\\\",\\\"227\\\",\\\"228\\\",\\\"229\\\",\\\"230\\\",\\\"231\\\",\\\"232\\\",\\\"233\\\",\\\"234\\\",\\\"235\\\",\\\"236\\\",\\\"237\\\",\\\"238\\\",\\\"239\\\",\\\"240\\\",\\\"241\\\",\\\"242\\\",\\\"243\\\",\\\"244\\\",\\\"245\\\",\\\"246\\\",\\\"247\\\",\\\"248\\\",\\\"249\\\",\\\"250\\\",\\\"251\\\",\\\"252\\\",\\\"253\\\",\\\"254\\\",\\\"255\\\",\\\"256\\\",\\\"257\\\",\\\"258\\\",\\\"259\\\",\\\"260\\\",\\\"261\\\",\\\"262\\\",\\\"263\\\",\\\"264\\\",\\\"265\\\",\\\"266\\\",\\\"267\\\",\\\"268\\\",\\\"269\\\",\\\"270\\\",\\\"271\\\",\\\"272\\\",\\\"273\\\",\\\"274\\\",\\\"275\\\",\\\"276\\\",\\\"277\\\",\\\"278\\\",\\\"279\\\",\\\"280\\\",\\\"281\\\",\\\"282\\\",\\\"283\\\",\\\"284\\\",\\\"285\\\",\\\"286\\\",\\\"287\\\",\\\"288\\\",\\\"289\\\",\\\"290\\\",\\\"291\\\",\\\"292\\\",\\\"293\\\",\\\"294\\\",\\\"295\\\",\\\"296\\\",\\\"297\\\",\\\"298\\\",\\\"299\\\",\\\"300\\\",\\\"301\\\"],\\\"changes\\\":WebIO.getval({\\\"name\\\":\\\"changes\\\",\\\"scope\\\":\\\"knockout-component-7dfdc687-c950-4e14-8de4-3d73d131df9f\\\",\\\"id\\\":\\\"ob_02\\\",\\\"type\\\":\\\"observable\\\"}),\\\"indexString\\\":WebIO.getval({\\\"name\\\":\\\"indexString\\\",\\\"scope\\\":\\\"knockout-component-7dfdc687-c950-4e14-8de4-3d73d131df9f\\\",\\\"id\\\":\\\"ob_03\\\",\\\"type\\\":\\\"observable\\\"}),\\\"index\\\":WebIO.getval({\\\"name\\\":\\\"index\\\",\\\"scope\\\":\\\"knockout-component-7dfdc687-c950-4e14-8de4-3d73d131df9f\\\",\\\"id\\\":\\\"ob_01\\\",\\\"type\\\":\\\"observable\\\"})};\\n    var self = this;\\n    function AppViewModel() {\\n        for (var key in json_data) {\\n            var el = json_data[key];\\n            this[key] = Array.isArray(el) ? ko.observableArray(el) : ko.observable(el);\\n        }\\n        \\n        [this[\\\"formatted_val\\\"]=ko.computed(    function(){\\n        return this.formatted_vals()[parseInt(this.index())-1];\\n    }\\n,this)]\\n        [this[\\\"changes\\\"].subscribe((function (val){!(this.valueFromJulia[\\\"changes\\\"]) ? (WebIO.setval({\\\"name\\\":\\\"changes\\\",\\\"scope\\\":\\\"knockout-component-7dfdc687-c950-4e14-8de4-3d73d131df9f\\\",\\\"id\\\":\\\"ob_02\\\",\\\"type\\\":\\\"observable\\\"},val)) : undefined; return this.valueFromJulia[\\\"changes\\\"]=false}),self),this[\\\"indexString\\\"].subscribe((function (val){!(this.valueFromJulia[\\\"indexString\\\"]) ? (WebIO.setval({\\\"name\\\":\\\"indexString\\\",\\\"scope\\\":\\\"knockout-component-7dfdc687-c950-4e14-8de4-3d73d131df9f\\\",\\\"id\\\":\\\"ob_03\\\",\\\"type\\\":\\\"observable\\\"},val)) : undefined; return this.valueFromJulia[\\\"indexString\\\"]=false}),self),this[\\\"index\\\"].subscribe((function (val){!(this.valueFromJulia[\\\"index\\\"]) ? (WebIO.setval({\\\"name\\\":\\\"index\\\",\\\"scope\\\":\\\"knockout-component-7dfdc687-c950-4e14-8de4-3d73d131df9f\\\",\\\"id\\\":\\\"ob_01\\\",\\\"type\\\":\\\"observable\\\"},val)) : undefined; return this.valueFromJulia[\\\"index\\\"]=false}),self)]\\n                var obs = this.index;\\n    var obsString = this.indexString;\\n    obsString.subscribe(function(value) {\\n        var val = parseFloat(value);\\n        if (!isNaN(val)) {\\n            obs(val);\\n        }\\n    })\\n    obs.subscribe(function(value) {\\n        var str = JSON.stringify(value);\\n        if ((str == \\\"0\\\") && ([\\\"-0\\\", \\\"-0.\\\"].indexOf(obsString()) >= 0))\\n             return;\\n         if ([\\\"null\\\", \\\"\\\"].indexOf(str) >= 0)\\n             return;\\n        obsString(str);\\n    })\\n\\n    \\n\\n    }\\n    self.model = new AppViewModel();\\n    self.valueFromJulia = {};\\n    for (var key in json_data) {\\n        self.valueFromJulia[key] = false;\\n    }\\n    ko.applyBindings(self.model, self.dom);\\n}\\n);\\n    (WebIO.importBlock({\\\"data\\\":[{\\\"name\\\":\\\"knockout\\\",\\\"type\\\":\\\"js\\\",\\\"url\\\":\\\"/assetserver/3eba94e42381e338b63445bb6165a6b74dfff7fe-knockout.js\\\"},{\\\"name\\\":\\\"knockout_punches\\\",\\\"type\\\":\\\"js\\\",\\\"url\\\":\\\"/assetserver/0b60b3bed0558f340d8f36b2e588fc19a5331e53-knockout_punches.js\\\"}],\\\"type\\\":\\\"async_block\\\"})).then((imports) => handler.apply(this, imports));\\n}\\n\")])], Dict{Symbol,Any}(:className=>\"field interact-widget\"), 1), Observable{Any} with 0 listeners. Value:\n",
       "Node{DOM}(DOM(:html, :div), Any[CairoSurfaceBase{UInt32}(Ptr{Nothing} @0x00000000209a8c60, 1000.0, 600.0)], Dict{Symbol,Any}(:className=>\"interact-flex-row interact-widget\"), 1)], Dict{Symbol,Any}(), 2)"
      ]
     },
     "execution_count": 11,
     "metadata": {
      "application/vnd.webio.node+json": {
       "kernelId": "a4011d3d-7ce8-45d0-9c5b-98ef8e60f4d0"
      }
     },
     "output_type": "execute_result"
    }
   ],
   "source": [
    "using Interact\n",
    "@manipulate for frame_index in 1 : nframes(rec)\n",
    "    render(rec[frame_index-nframes(rec)], env, cam=cam)\n",
    "end"
   ]
  },
  {
   "cell_type": "code",
   "execution_count": null,
   "metadata": {},
   "outputs": [],
   "source": []
  }
 ],
 "metadata": {
  "@webio": {
   "lastCommId": "ec5210cff4f94500ae7860b20ebcff6f",
   "lastKernelId": "a4011d3d-7ce8-45d0-9c5b-98ef8e60f4d0"
  },
  "kernelspec": {
   "display_name": "Julia 1.1.0",
   "language": "julia",
   "name": "julia-1.1"
  },
  "language_info": {
   "file_extension": ".jl",
   "mimetype": "application/julia",
   "name": "julia",
   "version": "1.1.0"
  }
 },
 "nbformat": 4,
 "nbformat_minor": 2
}
